{
  "nbformat": 4,
  "nbformat_minor": 0,
  "metadata": {
    "colab": {
      "provenance": [],
      "mount_file_id": "1ggBZ14PnlGu6Wi3RUIg5YEanBDNyqE8h",
      "authorship_tag": "ABX9TyMaOqMd8Kj72hvX0OnGm2+M",
      "include_colab_link": true
    },
    "kernelspec": {
      "name": "python3",
      "display_name": "Python 3"
    },
    "language_info": {
      "name": "python"
    }
  },
  "cells": [
    {
      "cell_type": "markdown",
      "metadata": {
        "id": "view-in-github",
        "colab_type": "text"
      },
      "source": [
        "<a href=\"https://colab.research.google.com/github/halimatu001/Data_Science_Assignment/blob/main/Week_5_ADAP_FE_23_83785742_1.ipynb\" target=\"_parent\"><img src=\"https://colab.research.google.com/assets/colab-badge.svg\" alt=\"Open In Colab\"/></a>"
      ]
    },
    {
      "cell_type": "code",
      "execution_count": null,
      "metadata": {
        "id": "OuivAOTAweAd"
      },
      "outputs": [],
      "source": [
        "import pandas as pd\n",
        "import numpy as np\n",
        "from sklearn.preprocessing import MinMaxScaler\n",
        "import sqlite3\n",
        "# Set display options to show all columns\n",
        "pd.set_option('display.max_columns', None)\n"
      ]
    },
    {
      "cell_type": "code",
      "source": [
        "path =\"/content/drive/MyDrive/3MTT Deeptech /job_change_data.csv\"\n",
        "df = pd.read_csv(path)\n",
        "df.head(5)"
      ],
      "metadata": {
        "colab": {
          "base_uri": "https://localhost:8080/",
          "height": 296
        },
        "id": "fAB451oa0I0S",
        "outputId": "34273c8d-66f0-40c5-ef70-06a8cfec9c4f"
      },
      "execution_count": null,
      "outputs": [
        {
          "output_type": "execute_result",
          "data": {
            "text/plain": [
              "   enrollee_id      city  city_development_index  gender  \\\n",
              "0        32403   city_41                   0.827    Male   \n",
              "1         9858  city_103                   0.920  Female   \n",
              "2        31806   city_21                   0.624    Male   \n",
              "3        27385   city_13                   0.827    Male   \n",
              "4        27724  city_103                   0.920    Male   \n",
              "\n",
              "       relevent_experience enrolled_university education_level  \\\n",
              "0  Has relevent experience    Full time course        Graduate   \n",
              "1  Has relevent experience       no_enrollment        Graduate   \n",
              "2   No relevent experience       no_enrollment     High School   \n",
              "3  Has relevent experience       no_enrollment         Masters   \n",
              "4  Has relevent experience       no_enrollment        Graduate   \n",
              "\n",
              "  major_discipline experience company_size company_type last_new_job  \\\n",
              "0             STEM          9          <10          NaN            1   \n",
              "1             STEM          5          NaN      Pvt Ltd            1   \n",
              "2              NaN         <1          NaN      Pvt Ltd        never   \n",
              "3             STEM         11       Oct-49      Pvt Ltd            1   \n",
              "4             STEM        >20       10000+      Pvt Ltd           >4   \n",
              "\n",
              "   training_hours  \n",
              "0              21  \n",
              "1              98  \n",
              "2              15  \n",
              "3              39  \n",
              "4              72  "
            ],
            "text/html": [
              "\n",
              "  <div id=\"df-e2466f0c-dc51-4516-9c1d-13820a8b5c25\" class=\"colab-df-container\">\n",
              "    <div>\n",
              "<style scoped>\n",
              "    .dataframe tbody tr th:only-of-type {\n",
              "        vertical-align: middle;\n",
              "    }\n",
              "\n",
              "    .dataframe tbody tr th {\n",
              "        vertical-align: top;\n",
              "    }\n",
              "\n",
              "    .dataframe thead th {\n",
              "        text-align: right;\n",
              "    }\n",
              "</style>\n",
              "<table border=\"1\" class=\"dataframe\">\n",
              "  <thead>\n",
              "    <tr style=\"text-align: right;\">\n",
              "      <th></th>\n",
              "      <th>enrollee_id</th>\n",
              "      <th>city</th>\n",
              "      <th>city_development_index</th>\n",
              "      <th>gender</th>\n",
              "      <th>relevent_experience</th>\n",
              "      <th>enrolled_university</th>\n",
              "      <th>education_level</th>\n",
              "      <th>major_discipline</th>\n",
              "      <th>experience</th>\n",
              "      <th>company_size</th>\n",
              "      <th>company_type</th>\n",
              "      <th>last_new_job</th>\n",
              "      <th>training_hours</th>\n",
              "    </tr>\n",
              "  </thead>\n",
              "  <tbody>\n",
              "    <tr>\n",
              "      <th>0</th>\n",
              "      <td>32403</td>\n",
              "      <td>city_41</td>\n",
              "      <td>0.827</td>\n",
              "      <td>Male</td>\n",
              "      <td>Has relevent experience</td>\n",
              "      <td>Full time course</td>\n",
              "      <td>Graduate</td>\n",
              "      <td>STEM</td>\n",
              "      <td>9</td>\n",
              "      <td>&lt;10</td>\n",
              "      <td>NaN</td>\n",
              "      <td>1</td>\n",
              "      <td>21</td>\n",
              "    </tr>\n",
              "    <tr>\n",
              "      <th>1</th>\n",
              "      <td>9858</td>\n",
              "      <td>city_103</td>\n",
              "      <td>0.920</td>\n",
              "      <td>Female</td>\n",
              "      <td>Has relevent experience</td>\n",
              "      <td>no_enrollment</td>\n",
              "      <td>Graduate</td>\n",
              "      <td>STEM</td>\n",
              "      <td>5</td>\n",
              "      <td>NaN</td>\n",
              "      <td>Pvt Ltd</td>\n",
              "      <td>1</td>\n",
              "      <td>98</td>\n",
              "    </tr>\n",
              "    <tr>\n",
              "      <th>2</th>\n",
              "      <td>31806</td>\n",
              "      <td>city_21</td>\n",
              "      <td>0.624</td>\n",
              "      <td>Male</td>\n",
              "      <td>No relevent experience</td>\n",
              "      <td>no_enrollment</td>\n",
              "      <td>High School</td>\n",
              "      <td>NaN</td>\n",
              "      <td>&lt;1</td>\n",
              "      <td>NaN</td>\n",
              "      <td>Pvt Ltd</td>\n",
              "      <td>never</td>\n",
              "      <td>15</td>\n",
              "    </tr>\n",
              "    <tr>\n",
              "      <th>3</th>\n",
              "      <td>27385</td>\n",
              "      <td>city_13</td>\n",
              "      <td>0.827</td>\n",
              "      <td>Male</td>\n",
              "      <td>Has relevent experience</td>\n",
              "      <td>no_enrollment</td>\n",
              "      <td>Masters</td>\n",
              "      <td>STEM</td>\n",
              "      <td>11</td>\n",
              "      <td>Oct-49</td>\n",
              "      <td>Pvt Ltd</td>\n",
              "      <td>1</td>\n",
              "      <td>39</td>\n",
              "    </tr>\n",
              "    <tr>\n",
              "      <th>4</th>\n",
              "      <td>27724</td>\n",
              "      <td>city_103</td>\n",
              "      <td>0.920</td>\n",
              "      <td>Male</td>\n",
              "      <td>Has relevent experience</td>\n",
              "      <td>no_enrollment</td>\n",
              "      <td>Graduate</td>\n",
              "      <td>STEM</td>\n",
              "      <td>&gt;20</td>\n",
              "      <td>10000+</td>\n",
              "      <td>Pvt Ltd</td>\n",
              "      <td>&gt;4</td>\n",
              "      <td>72</td>\n",
              "    </tr>\n",
              "  </tbody>\n",
              "</table>\n",
              "</div>\n",
              "    <div class=\"colab-df-buttons\">\n",
              "\n",
              "  <div class=\"colab-df-container\">\n",
              "    <button class=\"colab-df-convert\" onclick=\"convertToInteractive('df-e2466f0c-dc51-4516-9c1d-13820a8b5c25')\"\n",
              "            title=\"Convert this dataframe to an interactive table.\"\n",
              "            style=\"display:none;\">\n",
              "\n",
              "  <svg xmlns=\"http://www.w3.org/2000/svg\" height=\"24px\" viewBox=\"0 -960 960 960\">\n",
              "    <path d=\"M120-120v-720h720v720H120Zm60-500h600v-160H180v160Zm220 220h160v-160H400v160Zm0 220h160v-160H400v160ZM180-400h160v-160H180v160Zm440 0h160v-160H620v160ZM180-180h160v-160H180v160Zm440 0h160v-160H620v160Z\"/>\n",
              "  </svg>\n",
              "    </button>\n",
              "\n",
              "  <style>\n",
              "    .colab-df-container {\n",
              "      display:flex;\n",
              "      gap: 12px;\n",
              "    }\n",
              "\n",
              "    .colab-df-convert {\n",
              "      background-color: #E8F0FE;\n",
              "      border: none;\n",
              "      border-radius: 50%;\n",
              "      cursor: pointer;\n",
              "      display: none;\n",
              "      fill: #1967D2;\n",
              "      height: 32px;\n",
              "      padding: 0 0 0 0;\n",
              "      width: 32px;\n",
              "    }\n",
              "\n",
              "    .colab-df-convert:hover {\n",
              "      background-color: #E2EBFA;\n",
              "      box-shadow: 0px 1px 2px rgba(60, 64, 67, 0.3), 0px 1px 3px 1px rgba(60, 64, 67, 0.15);\n",
              "      fill: #174EA6;\n",
              "    }\n",
              "\n",
              "    .colab-df-buttons div {\n",
              "      margin-bottom: 4px;\n",
              "    }\n",
              "\n",
              "    [theme=dark] .colab-df-convert {\n",
              "      background-color: #3B4455;\n",
              "      fill: #D2E3FC;\n",
              "    }\n",
              "\n",
              "    [theme=dark] .colab-df-convert:hover {\n",
              "      background-color: #434B5C;\n",
              "      box-shadow: 0px 1px 3px 1px rgba(0, 0, 0, 0.15);\n",
              "      filter: drop-shadow(0px 1px 2px rgba(0, 0, 0, 0.3));\n",
              "      fill: #FFFFFF;\n",
              "    }\n",
              "  </style>\n",
              "\n",
              "    <script>\n",
              "      const buttonEl =\n",
              "        document.querySelector('#df-e2466f0c-dc51-4516-9c1d-13820a8b5c25 button.colab-df-convert');\n",
              "      buttonEl.style.display =\n",
              "        google.colab.kernel.accessAllowed ? 'block' : 'none';\n",
              "\n",
              "      async function convertToInteractive(key) {\n",
              "        const element = document.querySelector('#df-e2466f0c-dc51-4516-9c1d-13820a8b5c25');\n",
              "        const dataTable =\n",
              "          await google.colab.kernel.invokeFunction('convertToInteractive',\n",
              "                                                    [key], {});\n",
              "        if (!dataTable) return;\n",
              "\n",
              "        const docLinkHtml = 'Like what you see? Visit the ' +\n",
              "          '<a target=\"_blank\" href=https://colab.research.google.com/notebooks/data_table.ipynb>data table notebook</a>'\n",
              "          + ' to learn more about interactive tables.';\n",
              "        element.innerHTML = '';\n",
              "        dataTable['output_type'] = 'display_data';\n",
              "        await google.colab.output.renderOutput(dataTable, element);\n",
              "        const docLink = document.createElement('div');\n",
              "        docLink.innerHTML = docLinkHtml;\n",
              "        element.appendChild(docLink);\n",
              "      }\n",
              "    </script>\n",
              "  </div>\n",
              "\n",
              "\n",
              "    <div id=\"df-d379ac3e-9902-4d50-8c25-5fb45737a5f0\">\n",
              "      <button class=\"colab-df-quickchart\" onclick=\"quickchart('df-d379ac3e-9902-4d50-8c25-5fb45737a5f0')\"\n",
              "                title=\"Suggest charts\"\n",
              "                style=\"display:none;\">\n",
              "\n",
              "<svg xmlns=\"http://www.w3.org/2000/svg\" height=\"24px\"viewBox=\"0 0 24 24\"\n",
              "     width=\"24px\">\n",
              "    <g>\n",
              "        <path d=\"M19 3H5c-1.1 0-2 .9-2 2v14c0 1.1.9 2 2 2h14c1.1 0 2-.9 2-2V5c0-1.1-.9-2-2-2zM9 17H7v-7h2v7zm4 0h-2V7h2v10zm4 0h-2v-4h2v4z\"/>\n",
              "    </g>\n",
              "</svg>\n",
              "      </button>\n",
              "\n",
              "<style>\n",
              "  .colab-df-quickchart {\n",
              "      --bg-color: #E8F0FE;\n",
              "      --fill-color: #1967D2;\n",
              "      --hover-bg-color: #E2EBFA;\n",
              "      --hover-fill-color: #174EA6;\n",
              "      --disabled-fill-color: #AAA;\n",
              "      --disabled-bg-color: #DDD;\n",
              "  }\n",
              "\n",
              "  [theme=dark] .colab-df-quickchart {\n",
              "      --bg-color: #3B4455;\n",
              "      --fill-color: #D2E3FC;\n",
              "      --hover-bg-color: #434B5C;\n",
              "      --hover-fill-color: #FFFFFF;\n",
              "      --disabled-bg-color: #3B4455;\n",
              "      --disabled-fill-color: #666;\n",
              "  }\n",
              "\n",
              "  .colab-df-quickchart {\n",
              "    background-color: var(--bg-color);\n",
              "    border: none;\n",
              "    border-radius: 50%;\n",
              "    cursor: pointer;\n",
              "    display: none;\n",
              "    fill: var(--fill-color);\n",
              "    height: 32px;\n",
              "    padding: 0;\n",
              "    width: 32px;\n",
              "  }\n",
              "\n",
              "  .colab-df-quickchart:hover {\n",
              "    background-color: var(--hover-bg-color);\n",
              "    box-shadow: 0 1px 2px rgba(60, 64, 67, 0.3), 0 1px 3px 1px rgba(60, 64, 67, 0.15);\n",
              "    fill: var(--button-hover-fill-color);\n",
              "  }\n",
              "\n",
              "  .colab-df-quickchart-complete:disabled,\n",
              "  .colab-df-quickchart-complete:disabled:hover {\n",
              "    background-color: var(--disabled-bg-color);\n",
              "    fill: var(--disabled-fill-color);\n",
              "    box-shadow: none;\n",
              "  }\n",
              "\n",
              "  .colab-df-spinner {\n",
              "    border: 2px solid var(--fill-color);\n",
              "    border-color: transparent;\n",
              "    border-bottom-color: var(--fill-color);\n",
              "    animation:\n",
              "      spin 1s steps(1) infinite;\n",
              "  }\n",
              "\n",
              "  @keyframes spin {\n",
              "    0% {\n",
              "      border-color: transparent;\n",
              "      border-bottom-color: var(--fill-color);\n",
              "      border-left-color: var(--fill-color);\n",
              "    }\n",
              "    20% {\n",
              "      border-color: transparent;\n",
              "      border-left-color: var(--fill-color);\n",
              "      border-top-color: var(--fill-color);\n",
              "    }\n",
              "    30% {\n",
              "      border-color: transparent;\n",
              "      border-left-color: var(--fill-color);\n",
              "      border-top-color: var(--fill-color);\n",
              "      border-right-color: var(--fill-color);\n",
              "    }\n",
              "    40% {\n",
              "      border-color: transparent;\n",
              "      border-right-color: var(--fill-color);\n",
              "      border-top-color: var(--fill-color);\n",
              "    }\n",
              "    60% {\n",
              "      border-color: transparent;\n",
              "      border-right-color: var(--fill-color);\n",
              "    }\n",
              "    80% {\n",
              "      border-color: transparent;\n",
              "      border-right-color: var(--fill-color);\n",
              "      border-bottom-color: var(--fill-color);\n",
              "    }\n",
              "    90% {\n",
              "      border-color: transparent;\n",
              "      border-bottom-color: var(--fill-color);\n",
              "    }\n",
              "  }\n",
              "</style>\n",
              "\n",
              "      <script>\n",
              "        async function quickchart(key) {\n",
              "          const quickchartButtonEl =\n",
              "            document.querySelector('#' + key + ' button');\n",
              "          quickchartButtonEl.disabled = true;  // To prevent multiple clicks.\n",
              "          quickchartButtonEl.classList.add('colab-df-spinner');\n",
              "          try {\n",
              "            const charts = await google.colab.kernel.invokeFunction(\n",
              "                'suggestCharts', [key], {});\n",
              "          } catch (error) {\n",
              "            console.error('Error during call to suggestCharts:', error);\n",
              "          }\n",
              "          quickchartButtonEl.classList.remove('colab-df-spinner');\n",
              "          quickchartButtonEl.classList.add('colab-df-quickchart-complete');\n",
              "        }\n",
              "        (() => {\n",
              "          let quickchartButtonEl =\n",
              "            document.querySelector('#df-d379ac3e-9902-4d50-8c25-5fb45737a5f0 button');\n",
              "          quickchartButtonEl.style.display =\n",
              "            google.colab.kernel.accessAllowed ? 'block' : 'none';\n",
              "        })();\n",
              "      </script>\n",
              "    </div>\n",
              "\n",
              "    </div>\n",
              "  </div>\n"
            ],
            "application/vnd.google.colaboratory.intrinsic+json": {
              "type": "dataframe",
              "variable_name": "df",
              "summary": "{\n  \"name\": \"df\",\n  \"rows\": 2129,\n  \"fields\": [\n    {\n      \"column\": \"enrollee_id\",\n      \"properties\": {\n        \"dtype\": \"number\",\n        \"std\": 9576,\n        \"min\": 3,\n        \"max\": 33353,\n        \"num_unique_values\": 2129,\n        \"samples\": [\n          8232,\n          28680,\n          9700\n        ],\n        \"semantic_type\": \"\",\n        \"description\": \"\"\n      }\n    },\n    {\n      \"column\": \"city\",\n      \"properties\": {\n        \"dtype\": \"category\",\n        \"num_unique_values\": 108,\n        \"samples\": [\n          \"city_79\",\n          \"city_118\",\n          \"city_23\"\n        ],\n        \"semantic_type\": \"\",\n        \"description\": \"\"\n      }\n    },\n    {\n      \"column\": \"city_development_index\",\n      \"properties\": {\n        \"dtype\": \"number\",\n        \"std\": 0.12507397890662897,\n        \"min\": 0.448,\n        \"max\": 0.949,\n        \"num_unique_values\": 81,\n        \"samples\": [\n          0.745,\n          0.827,\n          0.925\n        ],\n        \"semantic_type\": \"\",\n        \"description\": \"\"\n      }\n    },\n    {\n      \"column\": \"gender\",\n      \"properties\": {\n        \"dtype\": \"category\",\n        \"num_unique_values\": 3,\n        \"samples\": [\n          \"Male\",\n          \"Female\",\n          \"Other\"\n        ],\n        \"semantic_type\": \"\",\n        \"description\": \"\"\n      }\n    },\n    {\n      \"column\": \"relevent_experience\",\n      \"properties\": {\n        \"dtype\": \"category\",\n        \"num_unique_values\": 2,\n        \"samples\": [\n          \"No relevent experience\",\n          \"Has relevent experience\"\n        ],\n        \"semantic_type\": \"\",\n        \"description\": \"\"\n      }\n    },\n    {\n      \"column\": \"enrolled_university\",\n      \"properties\": {\n        \"dtype\": \"category\",\n        \"num_unique_values\": 3,\n        \"samples\": [\n          \"Full time course\",\n          \"no_enrollment\"\n        ],\n        \"semantic_type\": \"\",\n        \"description\": \"\"\n      }\n    },\n    {\n      \"column\": \"education_level\",\n      \"properties\": {\n        \"dtype\": \"category\",\n        \"num_unique_values\": 5,\n        \"samples\": [\n          \"High School\",\n          \"Primary School\"\n        ],\n        \"semantic_type\": \"\",\n        \"description\": \"\"\n      }\n    },\n    {\n      \"column\": \"major_discipline\",\n      \"properties\": {\n        \"dtype\": \"category\",\n        \"num_unique_values\": 6,\n        \"samples\": [\n          \"STEM\",\n          \"Other\"\n        ],\n        \"semantic_type\": \"\",\n        \"description\": \"\"\n      }\n    },\n    {\n      \"column\": \"experience\",\n      \"properties\": {\n        \"dtype\": \"category\",\n        \"num_unique_values\": 22,\n        \"samples\": [\n          \"9\",\n          \"6\"\n        ],\n        \"semantic_type\": \"\",\n        \"description\": \"\"\n      }\n    },\n    {\n      \"column\": \"company_size\",\n      \"properties\": {\n        \"dtype\": \"category\",\n        \"num_unique_values\": 8,\n        \"samples\": [\n          \"Oct-49\",\n          \"1000-4999\"\n        ],\n        \"semantic_type\": \"\",\n        \"description\": \"\"\n      }\n    },\n    {\n      \"column\": \"company_type\",\n      \"properties\": {\n        \"dtype\": \"category\",\n        \"num_unique_values\": 6,\n        \"samples\": [\n          \"Pvt Ltd\",\n          \"Funded Startup\"\n        ],\n        \"semantic_type\": \"\",\n        \"description\": \"\"\n      }\n    },\n    {\n      \"column\": \"last_new_job\",\n      \"properties\": {\n        \"dtype\": \"category\",\n        \"num_unique_values\": 6,\n        \"samples\": [\n          \"1\",\n          \"never\"\n        ],\n        \"semantic_type\": \"\",\n        \"description\": \"\"\n      }\n    },\n    {\n      \"column\": \"training_hours\",\n      \"properties\": {\n        \"dtype\": \"number\",\n        \"std\": 60,\n        \"min\": 1,\n        \"max\": 334,\n        \"num_unique_values\": 223,\n        \"samples\": [\n          4,\n          24\n        ],\n        \"semantic_type\": \"\",\n        \"description\": \"\"\n      }\n    }\n  ]\n}"
            }
          },
          "metadata": {},
          "execution_count": 2
        }
      ]
    },
    {
      "cell_type": "code",
      "source": [
        "# Define a mapping for company_size to numeric levels\n",
        "size_map = {\n",
        "    '<10': 1,\n",
        "    '10/49': 2,\n",
        "    '50-99': 3,\n",
        "    '100-500': 4,\n",
        "    '500-999': 5,\n",
        "    '1000-4999': 6,\n",
        "    '5000-9999': 7,\n",
        "    '10000+': 8\n",
        "}\n"
      ],
      "metadata": {
        "id": "RETg_EAO26Em"
      },
      "execution_count": null,
      "outputs": []
    },
    {
      "cell_type": "code",
      "source": [
        "# Apply the mapping (non-matching values like 'Oct-49' will become NaN)\n",
        "df['company_size_num'] = df['company_size'].map(size_map)"
      ],
      "metadata": {
        "id": "b5BFJ4Rx3Hdn"
      },
      "execution_count": null,
      "outputs": []
    },
    {
      "cell_type": "code",
      "source": [
        "# Filter rows where city_development_index > 0.8 and company_size > 3\n",
        "filtered_df = df[(df['city_development_index'] > 0.8) & (df['company_size_num'] > 3)]\n"
      ],
      "metadata": {
        "id": "gZiiQzZt3MV1"
      },
      "execution_count": null,
      "outputs": []
    },
    {
      "cell_type": "code",
      "source": [
        "# Show result\n",
        "print(filtered_df[['enrollee_id', 'city_development_index', 'company_size']].head())\n"
      ],
      "metadata": {
        "colab": {
          "base_uri": "https://localhost:8080/"
        },
        "id": "NVs79EG33PsH",
        "outputId": "82c45b0f-c46e-4350-aabf-4e9279a6ba21"
      },
      "execution_count": null,
      "outputs": [
        {
          "output_type": "stream",
          "name": "stdout",
          "text": [
            "    enrollee_id  city_development_index company_size\n",
            "4         27724                   0.920       10000+\n",
            "13        24372                   0.949      100-500\n",
            "21        16001                   0.920       10000+\n",
            "36        22139                   0.920      100-500\n",
            "37        19644                   0.913       10000+\n"
          ]
        }
      ]
    },
    {
      "cell_type": "markdown",
      "source": [
        "Use iloc to select the first 10 rows and specific columns like Experience and\n",
        "Education_Level."
      ],
      "metadata": {
        "id": "ekkxqJ6u3sDG"
      }
    },
    {
      "cell_type": "code",
      "source": [
        "# Use iloc to select first 10 rows and columns for experience and education_level\n",
        "selected_data = df.iloc[:10, [6, 8]]\n",
        "\n",
        "# Display the result\n",
        "print(selected_data)\n"
      ],
      "metadata": {
        "colab": {
          "base_uri": "https://localhost:8080/"
        },
        "id": "kewqk5Da3snq",
        "outputId": "ae90b434-59cb-457e-c94a-379343b4da0e"
      },
      "execution_count": null,
      "outputs": [
        {
          "output_type": "stream",
          "name": "stdout",
          "text": [
            "  education_level experience\n",
            "0        Graduate          9\n",
            "1        Graduate          5\n",
            "2     High School         <1\n",
            "3         Masters         11\n",
            "4        Graduate        >20\n",
            "5         Masters         10\n",
            "6        Graduate         <1\n",
            "7        Graduate        >20\n",
            "8        Graduate         14\n",
            "9        Graduate          3\n"
          ]
        }
      ]
    },
    {
      "cell_type": "markdown",
      "source": [
        "Group data by Relevant_Experience and calculate the average\n",
        "City_Development_Index for each group."
      ],
      "metadata": {
        "id": "oclh0-QH4Hyj"
      }
    },
    {
      "cell_type": "code",
      "source": [
        "# Group by 'relevent_experience' and calculate the mean of 'city_development_index'\n",
        "grouped_avg = df.groupby('relevent_experience')['city_development_index'].mean()\n",
        "\n",
        "# Display the result\n",
        "print(grouped_avg)"
      ],
      "metadata": {
        "colab": {
          "base_uri": "https://localhost:8080/"
        },
        "id": "7q7yG-YQ4UWy",
        "outputId": "bfea85bf-d77f-49a5-f43e-1b532ef0e44a"
      },
      "execution_count": null,
      "outputs": [
        {
          "output_type": "stream",
          "name": "stdout",
          "text": [
            "relevent_experience\n",
            "Has relevent experience    0.831000\n",
            "No relevent experience     0.809828\n",
            "Name: city_development_index, dtype: float64\n"
          ]
        }
      ]
    },
    {
      "cell_type": "markdown",
      "source": [
        "Group by Company_Size and count the number of unique entries in\n",
        "Last_New_Job."
      ],
      "metadata": {
        "id": "irqAYblu4sM-"
      }
    },
    {
      "cell_type": "code",
      "source": [
        "# Group by 'company_size' and count unique 'last_new_job' entries\n",
        "unique_counts = df.groupby('company_size')['last_new_job'].nunique()\n",
        "\n",
        "# Display the result\n",
        "print(unique_counts)"
      ],
      "metadata": {
        "colab": {
          "base_uri": "https://localhost:8080/"
        },
        "id": "bj6JSl9S45hZ",
        "outputId": "8f23ef0f-d2bd-45ba-bf4f-f812b10c1082"
      },
      "execution_count": null,
      "outputs": [
        {
          "output_type": "stream",
          "name": "stdout",
          "text": [
            "company_size\n",
            "100-500      6\n",
            "1000-4999    6\n",
            "10000+       6\n",
            "50-99        6\n",
            "500-999      6\n",
            "5000-9999    6\n",
            "<10          6\n",
            "Oct-49       6\n",
            "Name: last_new_job, dtype: int64\n"
          ]
        }
      ]
    },
    {
      "cell_type": "markdown",
      "source": [
        "Analyze the frequency distribution of Company_Type using value_counts()."
      ],
      "metadata": {
        "id": "eAJEOhmg5NBX"
      }
    },
    {
      "cell_type": "code",
      "source": [
        "# Analyze frequency distribution of 'company_type'\n",
        "company_type_distribution = df['company_type'].value_counts()\n",
        "\n",
        "# Display the result\n",
        "print(company_type_distribution)"
      ],
      "metadata": {
        "colab": {
          "base_uri": "https://localhost:8080/"
        },
        "id": "KEF-pg_S5O0V",
        "outputId": "cd6bab06-f768-4dc5-db64-2bdbb4d51522"
      },
      "execution_count": null,
      "outputs": [
        {
          "output_type": "stream",
          "name": "stdout",
          "text": [
            "company_type\n",
            "Pvt Ltd                1141\n",
            "Public Sector           127\n",
            "Funded Startup           97\n",
            "Early Stage Startup      65\n",
            "NGO                      53\n",
            "Other                    12\n",
            "Name: count, dtype: int64\n"
          ]
        }
      ]
    },
    {
      "cell_type": "markdown",
      "source": [
        "Identify numerical columns with missing values and fill them using the mean"
      ],
      "metadata": {
        "id": "_vKfjKCb5uMu"
      }
    },
    {
      "cell_type": "code",
      "source": [
        "# Select only numerical columns\n",
        "numerical_cols = df.select_dtypes(include=['number'])\n",
        "\n",
        "# Identify numerical columns with missing values\n",
        "missing_numerical = numerical_cols.columns[numerical_cols.isnull().any()]\n",
        "\n",
        "# Fill missing values in those columns with the mean\n",
        "for col in missing_numerical:\n",
        "    mean_value = df[col].mean()\n",
        "    df[col].fillna(mean_value, inplace=True)\n",
        "\n",
        "# Optional: display filled columns and their means\n",
        "for col in missing_numerical:\n",
        "    print(f\"Filled missing values in '{col}' with mean: {df[col].mean():.2f}\")"
      ],
      "metadata": {
        "id": "iDONVUFL5vVn"
      },
      "execution_count": null,
      "outputs": []
    },
    {
      "cell_type": "markdown",
      "source": [
        "Drop rows where more than 50% of data is missing, and document the impact\n",
        "on dataset size."
      ],
      "metadata": {
        "id": "EWNeAEb07Cf_"
      }
    },
    {
      "cell_type": "code",
      "source": [
        "# Record original size\n",
        "original_shape = df.shape\n",
        "\n",
        "# Drop rows with more than 50% missing values\n",
        "threshold = df.shape[1] / 2  # 50% of total columns\n",
        "df_cleaned = df.dropna(thresh=threshold)\n",
        "\n",
        "# Record new size\n",
        "new_shape = df_cleaned.shape\n",
        "\n",
        "# Document the impact\n",
        "print(f\"Original dataset size: {original_shape[0]} rows, {original_shape[1]} columns\")\n",
        "print(f\"New dataset size:      {new_shape[0]} rows, {new_shape[1]} columns\")\n",
        "print(f\"Rows dropped:          {original_shape[0] - new_shape[0]}\")"
      ],
      "metadata": {
        "colab": {
          "base_uri": "https://localhost:8080/"
        },
        "id": "i-4d6r8k7D8T",
        "outputId": "ece81bd9-c746-4051-9a44-7bc0c7a9dd03"
      },
      "execution_count": null,
      "outputs": [
        {
          "output_type": "stream",
          "name": "stdout",
          "text": [
            "Original dataset size: 2129 rows, 14 columns\n",
            "New dataset size:      2129 rows, 14 columns\n",
            "Rows dropped:          0\n"
          ]
        }
      ]
    },
    {
      "cell_type": "markdown",
      "source": [
        "Query the dataset to extract rows where Experience > 10 and Company_Size ==\n",
        "7."
      ],
      "metadata": {
        "id": "HS62nBU57WX1"
      }
    },
    {
      "cell_type": "code",
      "source": [
        "# Step 1: Map experience to numeric\n",
        "experience_map = {\n",
        "    '<1': 0,\n",
        "    '1': 1, '2': 2, '3': 3, '4': 4,\n",
        "    '5': 5, '6': 6, '7': 7, '8': 8,\n",
        "    '9': 9, '10': 10,\n",
        "    '11': 11, '12': 12, '13': 13, '14': 14,\n",
        "    '15': 15, '16': 16, '17': 17, '18': 18, '19': 19,\n",
        "    '20': 20, '>20': 21\n",
        "}\n",
        "df['experience_num'] = df['experience'].replace(experience_map).astype('float')\n",
        "\n",
        "# Step 2: Map company_size to numeric scale\n",
        "size_map = {\n",
        "    '<10': 1,\n",
        "    '10/49': 2,\n",
        "    '50-99': 3,\n",
        "    '100-500': 4,\n",
        "    '500-999': 5,\n",
        "    '1000-4999': 6,\n",
        "    '5000-9999': 7,\n",
        "    '10000+': 8\n",
        "}\n",
        "df['company_size_num'] = df['company_size'].map(size_map)\n",
        "\n",
        "# Step 3: Query the dataset\n",
        "filtered_df = df[(df['experience_num'] > 10) & (df['company_size_num'] == 7)]\n",
        "\n",
        "# Display the result\n",
        "print(filtered_df[['experience', 'company_size', 'experience_num', 'company_size_num']].head())\n"
      ],
      "metadata": {
        "colab": {
          "base_uri": "https://localhost:8080/"
        },
        "id": "xAC4cgR47ujh",
        "outputId": "6c63acf0-643d-4daf-9733-b0c1c2afbf5a"
      },
      "execution_count": null,
      "outputs": [
        {
          "output_type": "stream",
          "name": "stdout",
          "text": [
            "    experience company_size  experience_num  company_size_num\n",
            "112        >20    5000-9999            21.0               7.0\n",
            "127        >20    5000-9999            21.0               7.0\n",
            "154         13    5000-9999            13.0               7.0\n",
            "158        >20    5000-9999            21.0               7.0\n",
            "283         11    5000-9999            11.0               7.0\n"
          ]
        },
        {
          "output_type": "stream",
          "name": "stderr",
          "text": [
            "<ipython-input-19-33178555>:11: FutureWarning: Downcasting behavior in `replace` is deprecated and will be removed in a future version. To retain the old behavior, explicitly call `result.infer_objects(copy=False)`. To opt-in to the future behavior, set `pd.set_option('future.no_silent_downcasting', True)`\n",
            "  df['experience_num'] = df['experience'].replace(experience_map).astype('float')\n"
          ]
        }
      ]
    },
    {
      "cell_type": "markdown",
      "source": [
        "Create a new feature Experience_Gap by subtracting Last_New_Job from\n",
        "Experience."
      ],
      "metadata": {
        "id": "NPklW-VU7_Zc"
      }
    },
    {
      "cell_type": "code",
      "source": [
        "# Map 'last_new_job' to numeric\n",
        "last_job_map = {\n",
        "    'never': 0,\n",
        "    '<1': 0.5,\n",
        "    '1': 1, '2': 2, '3': 3, '4': 4, '>4': 5\n",
        "}\n",
        "df['last_new_job_num'] = df['last_new_job'].replace(last_job_map).astype('float')\n",
        "\n",
        "# Step 3: Create the new feature\n",
        "df['experience_gap'] = df['experience_num'] - df['last_new_job_num']\n",
        "\n",
        "# Display the new feature\n",
        "print(df[['experience', 'last_new_job', 'experience_num', 'last_new_job_num', 'experience_gap']].head())\n"
      ],
      "metadata": {
        "colab": {
          "base_uri": "https://localhost:8080/"
        },
        "id": "4_ycL5Pe7_47",
        "outputId": "3b5e878b-541f-4ae2-ed2e-878727bcbca1"
      },
      "execution_count": null,
      "outputs": [
        {
          "output_type": "stream",
          "name": "stdout",
          "text": [
            "  experience last_new_job  experience_num  last_new_job_num  experience_gap\n",
            "0          9            1             9.0               1.0             8.0\n",
            "1          5            1             5.0               1.0             4.0\n",
            "2         <1        never             0.0               0.0             0.0\n",
            "3         11            1            11.0               1.0            10.0\n",
            "4        >20           >4            21.0               5.0            16.0\n"
          ]
        },
        {
          "output_type": "stream",
          "name": "stderr",
          "text": [
            "<ipython-input-20-1540036628>:7: FutureWarning: Downcasting behavior in `replace` is deprecated and will be removed in a future version. To retain the old behavior, explicitly call `result.infer_objects(copy=False)`. To opt-in to the future behavior, set `pd.set_option('future.no_silent_downcasting', True)`\n",
            "  df['last_new_job_num'] = df['last_new_job'].replace(last_job_map).astype('float')\n"
          ]
        }
      ]
    },
    {
      "cell_type": "markdown",
      "source": [
        "Normalize City_Development_Index to a 0–1 scale and explain the benefits of\n",
        "normalization."
      ],
      "metadata": {
        "id": "r3YDp5gT9DQD"
      }
    },
    {
      "cell_type": "code",
      "source": [
        "# Apply Min-Max normalization\n",
        "df['city_development_index_norm'] = (df['city_development_index'] - df['city_development_index'].min()) / \\\n",
        "                                     (df['city_development_index'].max() - df['city_development_index'].min())\n",
        "\n",
        "# Display normalized values\n",
        "print(df[['city_development_index', 'city_development_index_norm']].head())\n"
      ],
      "metadata": {
        "colab": {
          "base_uri": "https://localhost:8080/"
        },
        "id": "qIADjEXh9Dth",
        "outputId": "b3416f92-a2f1-4b68-f320-9994aff9800f"
      },
      "execution_count": null,
      "outputs": [
        {
          "output_type": "stream",
          "name": "stdout",
          "text": [
            "   city_development_index  city_development_index_norm\n",
            "0                   0.827                     0.756487\n",
            "1                   0.920                     0.942116\n",
            "2                   0.624                     0.351297\n",
            "3                   0.827                     0.756487\n",
            "4                   0.920                     0.942116\n"
          ]
        }
      ]
    },
    {
      "cell_type": "markdown",
      "source": [
        "Create new column cdi_per and merge it to the original dataframe using\n",
        "pd.merge and analyze the combined insights."
      ],
      "metadata": {
        "id": "fay3HfMX9tfj"
      }
    },
    {
      "cell_type": "code",
      "source": [
        "# Create a DataFrame with enrollee_id and cdi_per (City Development Index %)\n",
        "df_cdi = df[['enrollee_id', 'city_development_index']].copy()\n",
        "df_cdi['cdi_per'] = df_cdi['city_development_index'] * 100\n",
        "\n",
        "# Merge this new column back into the original dataframe using enrollee_id\n",
        "df_merged = pd.merge(df, df_cdi[['enrollee_id', 'cdi_per']], on='enrollee_id', how='left')\n",
        "\n",
        "# Display the result\n",
        "print(df_merged[['enrollee_id', 'city_development_index', 'cdi_per']].head())\n"
      ],
      "metadata": {
        "colab": {
          "base_uri": "https://localhost:8080/"
        },
        "id": "-n5YUfBE9vzO",
        "outputId": "6f39cbdd-4dde-446e-b1f3-3b7e04f4e57f"
      },
      "execution_count": null,
      "outputs": [
        {
          "output_type": "stream",
          "name": "stdout",
          "text": [
            "   enrollee_id  city_development_index  cdi_per\n",
            "0        32403                   0.827     82.7\n",
            "1         9858                   0.920     92.0\n",
            "2        31806                   0.624     62.4\n",
            "3        27385                   0.827     82.7\n",
            "4        27724                   0.920     92.0\n"
          ]
        }
      ]
    }
  ]
}