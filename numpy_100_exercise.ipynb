{
 "cells": [
  {
   "cell_type": "markdown",
   "metadata": {},
   "source": [
    "####  1. Import the numpy package under the name np"
   ]
  },
  {
   "cell_type": "code",
   "execution_count": null,
   "metadata": {},
   "outputs": [],
   "source": [
    "#import numpy\n",
    "import numpy as np"
   ]
  },
  {
   "cell_type": "markdown",
   "metadata": {},
   "source": [
    "#### 2. print(\"NumPy Version:\", np.__version__)"
   ]
  },
  {
   "cell_type": "code",
   "execution_count": 2,
   "metadata": {},
   "outputs": [
    {
     "name": "stdout",
     "output_type": "stream",
     "text": [
      "NumPy Version: 1.26.2\n"
     ]
    }
   ],
   "source": [
    "import numpy as np\n",
    "\n",
    "#print numpy version\n",
    "print(\"NumPy Version:\", np.__version__)"
   ]
  },
  {
   "cell_type": "markdown",
   "metadata": {},
   "source": [
    "#### 3. Create a null vector of size 10"
   ]
  },
  {
   "cell_type": "code",
   "execution_count": 3,
   "metadata": {},
   "outputs": [
    {
     "name": "stdout",
     "output_type": "stream",
     "text": [
      "[0. 0. 0. 0. 0. 0. 0. 0. 0. 0.]\n"
     ]
    }
   ],
   "source": [
    "import numpy as np\n",
    "\n",
    "# Create a null vector of size 10\n",
    "null_vector = np.zeros(10)\n",
    "\n",
    "print(null_vector)\n"
   ]
  },
  {
   "cell_type": "markdown",
   "metadata": {},
   "source": [
    "#### 4. How to find the memory size of any array "
   ]
  },
  {
   "cell_type": "code",
   "execution_count": 9,
   "metadata": {},
   "outputs": [
    {
     "name": "stdout",
     "output_type": "stream",
     "text": [
      "Memory Size: [[0. 0. 0. 0.]\n",
      " [0. 0. 0. 0.]]\n"
     ]
    }
   ],
   "source": [
    "import numpy as np\n",
    "\n",
    "# Create an array1\n",
    "array1 = np.zeros((2, 4))\n",
    "\n",
    "# Find the memory size of the array\n",
    "memory_size = array1\n",
    "\n",
    "# Print the result\n",
    "print(\"Memory Size:\", memory_size, )\n"
   ]
  },
  {
   "cell_type": "markdown",
   "metadata": {},
   "source": [
    "#### 6. Create a null vector of size 10 but the fifth value which is 1"
   ]
  },
  {
   "cell_type": "code",
   "execution_count": 10,
   "metadata": {},
   "outputs": [
    {
     "name": "stdout",
     "output_type": "stream",
     "text": [
      "[0. 0. 0. 0. 1. 0. 0. 0. 0. 0.]\n"
     ]
    }
   ],
   "source": [
    "import numpy as np\n",
    "\n",
    "# Create a null vector of size 10\n",
    "null_vector = np.zeros(10)\n",
    "\n",
    "# Set the fifth value to 1\n",
    "null_vector[4] = 1\n",
    "\n",
    "print(null_vector)\n"
   ]
  },
  {
   "cell_type": "markdown",
   "metadata": {},
   "source": [
    "#### 7. Create a vector with values ranging from 10 to 49"
   ]
  },
  {
   "cell_type": "code",
   "execution_count": 13,
   "metadata": {},
   "outputs": [
    {
     "name": "stdout",
     "output_type": "stream",
     "text": [
      "Vector: [10 11 12 13 14 15 16 17 18 19 20 21 22 23 24 25 26 27 28 29 30 31 32 33\n",
      " 34 35 36 37 38 39 40 41 42 43 44 45 46 47 48 49]\n"
     ]
    }
   ],
   "source": [
    "import numpy as np\n",
    "\n",
    "# Create a vector with values ranging from 10 to 49\n",
    "vector = np.arange(10, 50)\n",
    "\n",
    "print(\"Vector:\", vector)\n"
   ]
  },
  {
   "cell_type": "markdown",
   "metadata": {},
   "source": [
    "#### 8. Reverse a vector (first element becomes last)"
   ]
  },
  {
   "cell_type": "code",
   "execution_count": 16,
   "metadata": {},
   "outputs": [
    {
     "name": "stdout",
     "output_type": "stream",
     "text": [
      "Original Vector: [ 2  4  6  8 10]\n",
      "Reversed Vector: [10  8  6  4  2]\n"
     ]
    }
   ],
   "source": [
    "import numpy as np\n",
    "\n",
    "# Create a vector\n",
    "original_vector = np.array([2,4,6,8,10])\n",
    "\n",
    "# Reverse the vector\n",
    "reversed_vector = original_vector[::-1]\n",
    "\n",
    "print(\"Original Vector:\", original_vector)\n",
    "print(\"Reversed Vector:\", reversed_vector)\n"
   ]
  },
  {
   "cell_type": "markdown",
   "metadata": {},
   "source": [
    "#### 9. Create a 3x3 matrix with values ranging from 0 to 8 "
   ]
  },
  {
   "cell_type": "code",
   "execution_count": 17,
   "metadata": {},
   "outputs": [
    {
     "name": "stdout",
     "output_type": "stream",
     "text": [
      "[[0 1 2]\n",
      " [3 4 5]\n",
      " [6 7 8]]\n"
     ]
    }
   ],
   "source": [
    "import numpy as np\n",
    "\n",
    "# Create a 3x3 matrix with values ranging from 0 to 8\n",
    "matrix_3x3 = np.arange(9).reshape((3, 3))\n",
    "\n",
    "print(matrix_3x3)\n"
   ]
  },
  {
   "cell_type": "markdown",
   "metadata": {},
   "source": [
    "#### 10. Find indices of non-zero elements from [1,2,0,0,4,0] "
   ]
  },
  {
   "cell_type": "code",
   "execution_count": 21,
   "metadata": {},
   "outputs": [
    {
     "name": "stdout",
     "output_type": "stream",
     "text": [
      "Indices of non-zero elements: (array([0, 1, 4], dtype=int64),)\n"
     ]
    }
   ],
   "source": [
    "import numpy as np\n",
    "\n",
    "# Create an array\n",
    "array1 = np.array([1, 2, 0, 0, 4, 0])\n",
    "\n",
    "# Find indices of non-zero elements\n",
    "nonzero_indices = np.nonzero(array1)\n",
    "\n",
    "print(\"Indices of non-zero elements:\", nonzero_indices)\n"
   ]
  },
  {
   "cell_type": "markdown",
   "metadata": {},
   "source": [
    "#### 11. Create a 3x3 identity matrix"
   ]
  },
  {
   "cell_type": "code",
   "execution_count": 24,
   "metadata": {},
   "outputs": [
    {
     "name": "stdout",
     "output_type": "stream",
     "text": [
      "[[1. 0. 0.]\n",
      " [0. 1. 0.]\n",
      " [0. 0. 1.]]\n"
     ]
    }
   ],
   "source": [
    "import numpy as np\n",
    "\n",
    "# Create a 3x3 identity matrix\n",
    "identity_matrix = np.eye(3)\n",
    "\n",
    "print(identity_matrix)"
   ]
  },
  {
   "cell_type": "markdown",
   "metadata": {},
   "source": [
    "#### 12. Create a 3x3x3 array with random values"
   ]
  },
  {
   "cell_type": "code",
   "execution_count": 27,
   "metadata": {},
   "outputs": [
    {
     "name": "stdout",
     "output_type": "stream",
     "text": [
      "Random Array: [[[0.26020165 0.93287184 0.69209873]\n",
      "  [0.59856102 0.56854052 0.29203541]\n",
      "  [0.41671509 0.70963187 0.2598741 ]]\n",
      "\n",
      " [[0.35066721 0.03996541 0.19470973]\n",
      "  [0.7035788  0.51891466 0.56613043]\n",
      "  [0.91074965 0.21048147 0.9810601 ]]\n",
      "\n",
      " [[0.82219709 0.98643537 0.00395088]\n",
      "  [0.83597474 0.74044485 0.89562522]\n",
      "  [0.38631604 0.32414234 0.51878183]]]\n"
     ]
    }
   ],
   "source": [
    "import numpy as np\n",
    "\n",
    "# Create a 3x3x3 array with random values\n",
    "random_array = np.random.rand(3, 3, 3)\n",
    "\n",
    "print(\"Random Array:\", random_array)\n"
   ]
  },
  {
   "cell_type": "markdown",
   "metadata": {},
   "source": [
    "#### 13. Create a 10x10 array with random values and find the minimum and maximum values "
   ]
  },
  {
   "cell_type": "code",
   "execution_count": 28,
   "metadata": {},
   "outputs": [
    {
     "name": "stdout",
     "output_type": "stream",
     "text": [
      "Array with random values:\n",
      "[[0.1342347  0.5474858  0.84718899 0.63799078 0.31424681 0.64804745\n",
      "  0.6967389  0.70646769 0.24487094 0.52284118]\n",
      " [0.54029794 0.10957588 0.26838833 0.39029833 0.06129739 0.42245787\n",
      "  0.54824725 0.68255789 0.74081834 0.27567759]\n",
      " [0.06752095 0.61927973 0.90797548 0.45670852 0.43776508 0.22304897\n",
      "  0.93025367 0.14096642 0.98161148 0.71378068]\n",
      " [0.24293491 0.29253104 0.97420123 0.73918777 0.1185126  0.73073863\n",
      "  0.64931672 0.49559238 0.1715826  0.70425578]\n",
      " [0.40570121 0.78817631 0.31365489 0.26010555 0.86320274 0.84379436\n",
      "  0.73119882 0.58068078 0.90918292 0.47959821]\n",
      " [0.75298157 0.81310685 0.28681771 0.93641062 0.65987778 0.34963166\n",
      "  0.64587634 0.72575849 0.46999963 0.62691031]\n",
      " [0.55315633 0.87091882 0.42123325 0.55231362 0.44238887 0.7450565\n",
      "  0.84734863 0.62513456 0.34888061 0.15966783]\n",
      " [0.73291167 0.05653214 0.42467475 0.37205148 0.11099604 0.59194994\n",
      "  0.30133907 0.40498248 0.87968944 0.19515932]\n",
      " [0.37166506 0.04193905 0.78270823 0.46755676 0.00562336 0.48393173\n",
      "  0.00683307 0.40050213 0.69445128 0.53458262]\n",
      " [0.90139839 0.82897438 0.42588783 0.4510964  0.93155316 0.25112274\n",
      "  0.06645196 0.70393763 0.14483088 0.54428964]]\n",
      "\n",
      "Minimum value: 0.005623360412201461\n",
      "Maximum value: 0.9816114842297955\n"
     ]
    }
   ],
   "source": [
    "import numpy as np\n",
    "\n",
    "# Create a 10x10 array with random values\n",
    "random_10x10_array = np.random.rand(10, 10)\n",
    "\n",
    "# Find the minimum and maximum values\n",
    "min_value = np.min(random_10x10_array)\n",
    "max_value = np.max(random_10x10_array)\n",
    "\n",
    "print(\"Array with random values:\")\n",
    "print(random_10x10_array)\n",
    "print(\"\\nMinimum value:\", min_value)\n",
    "print(\"Maximum value:\", max_value)\n"
   ]
  },
  {
   "cell_type": "markdown",
   "metadata": {},
   "source": [
    "#### 14. Create a random vector of size 30 and find the mean value"
   ]
  },
  {
   "cell_type": "code",
   "execution_count": 29,
   "metadata": {},
   "outputs": [
    {
     "name": "stdout",
     "output_type": "stream",
     "text": [
      "Random vector:\n",
      "[0.44601225 0.23944193 0.6417797  0.87762842 0.57130447 0.97204184\n",
      " 0.25603018 0.80226547 0.13030158 0.02970011 0.54362747 0.6777645\n",
      " 0.13909339 0.34304829 0.82949507 0.50924004 0.15420493 0.88491354\n",
      " 0.9067051  0.0301558  0.66640027 0.42313251 0.24445614 0.44109108\n",
      " 0.864646   0.15902619 0.40106334 0.42160235 0.44712265 0.6092094 ]\n",
      "\n",
      "Mean value: 0.4887501330751514\n"
     ]
    }
   ],
   "source": [
    "import numpy as np\n",
    "\n",
    "# Create a random vector of size 30\n",
    "random_vector = np.random.rand(30)\n",
    "\n",
    "# Find the mean value\n",
    "mean_value = np.mean(random_vector)\n",
    "\n",
    "print(\"Random vector:\")\n",
    "print(random_vector)\n",
    "print(\"\\nMean value:\", mean_value)\n"
   ]
  },
  {
   "cell_type": "markdown",
   "metadata": {},
   "source": [
    "#### 15. Create a 2d array with 1 on the border and 0 inside "
   ]
  },
  {
   "cell_type": "code",
   "execution_count": 33,
   "metadata": {},
   "outputs": [
    {
     "name": "stdout",
     "output_type": "stream",
     "text": [
      "[[1 1 1]\n",
      " [1 0 1]\n",
      " [1 1 1]]\n"
     ]
    }
   ],
   "source": [
    "import numpy as np\n",
    "\n",
    "# Shape of the 2D array\n",
    "rows, cols = 3, 3\n",
    "\n",
    "# Create a 2D array with 1 on the border and 0 inside\n",
    "array_2d = np.ones((rows, cols), dtype=int)\n",
    "array_2d[1:-1, 1:-1] = 0\n",
    "\n",
    "print(array_2d)\n"
   ]
  },
  {
   "cell_type": "markdown",
   "metadata": {},
   "source": [
    "#### 16. How to add a border (filled with 0's) around an existing array?"
   ]
  },
  {
   "cell_type": "code",
   "execution_count": 37,
   "metadata": {},
   "outputs": [
    {
     "name": "stdout",
     "output_type": "stream",
     "text": [
      "Original Array:\n",
      "[[1 2 3]\n",
      " [4 5 6]\n",
      " [7 8 9]]\n",
      "\n",
      "Array with Border:\n",
      "[[0 0 0 0 0]\n",
      " [0 1 2 3 0]\n",
      " [0 4 5 6 0]\n",
      " [0 7 8 9 0]\n",
      " [0 0 0 0 0]]\n"
     ]
    }
   ],
   "source": [
    "import numpy as np\n",
    "\n",
    "# Create an example array\n",
    "original_array = np.array([[1, 2, 3],\n",
    "                          [4, 5, 6],\n",
    "                          [7, 8, 9]])\n",
    "\n",
    "# Get the shape of the original array\n",
    "rows, cols = original_array.shape\n",
    "\n",
    "# Create a larger array filled with zeros\n",
    "larger_array = np.zeros((rows + 2, cols + 2), dtype=original_array.dtype)\n",
    "\n",
    "# Copy the values of the original array into the center of the larger array\n",
    "larger_array[1:-1, 1:-1] = original_array\n",
    "\n",
    "print(\"Original Array:\")\n",
    "print(original_array)\n",
    "print(\"\\nArray with Border:\")\n",
    "print(larger_array)\n"
   ]
  },
  {
   "cell_type": "markdown",
   "metadata": {},
   "source": [
    "#### 17. What is the result of the following expression? (★☆☆)\n",
    "###### 0 * np.nan\n",
    "###### np.nan == np.nan\n",
    "###### np.inf > np.nan\n",
    "###### np.nan - np.nan\n",
    "###### np.nan in set([np.nan])\n",
    "###### 0.3 == 3 * 0.1"
   ]
  },
  {
   "cell_type": "code",
   "execution_count": 38,
   "metadata": {},
   "outputs": [
    {
     "name": "stdout",
     "output_type": "stream",
     "text": [
      "Result 1: nan\n",
      "Result 2: False\n",
      "Result 3: False\n",
      "Result 4: nan\n",
      "Result 5: True\n",
      "Result 6: False\n"
     ]
    }
   ],
   "source": [
    "import numpy as np\n",
    "\n",
    "result1 = 0 * np.nan\n",
    "result2 = np.nan == np.nan\n",
    "result3 = np.inf > np.nan\n",
    "result4 = np.nan - np.nan\n",
    "result5 = np.nan in set([np.nan])\n",
    "result6 = 0.3 == 3 * 0.1\n",
    "\n",
    "print(\"Result 1:\", result1)\n",
    "print(\"Result 2:\", result2)\n",
    "print(\"Result 3:\", result3)\n",
    "print(\"Result 4:\", result4)\n",
    "print(\"Result 5:\", result5)\n",
    "print(\"Result 6:\", result6)\n"
   ]
  },
  {
   "cell_type": "markdown",
   "metadata": {},
   "source": [
    "#### 18. Create a 5x5 matrix with values 1,2,3,4 just below the diagonal"
   ]
  },
  {
   "cell_type": "code",
   "execution_count": 39,
   "metadata": {},
   "outputs": [
    {
     "name": "stdout",
     "output_type": "stream",
     "text": [
      "[[0 0 0 0 0]\n",
      " [1 0 0 0 0]\n",
      " [0 2 0 0 0]\n",
      " [0 0 3 0 0]\n",
      " [0 0 0 4 0]]\n"
     ]
    }
   ],
   "source": [
    "import numpy as np\n",
    "\n",
    "# Create a 5x5 matrix with values 1, 2, 3, 4 below the diagonal\n",
    "matrix_5x5 = np.diag([1, 2, 3, 4], k=-1)\n",
    "\n",
    "print(matrix_5x5)"
   ]
  },
  {
   "cell_type": "markdown",
   "metadata": {},
   "source": [
    "#### 19. Create a 8x8 matrix and fill it with a checkerboard pattern"
   ]
  },
  {
   "cell_type": "code",
   "execution_count": 42,
   "metadata": {},
   "outputs": [
    {
     "name": "stdout",
     "output_type": "stream",
     "text": [
      "[[0 2 0 2 0 2 0 2]\n",
      " [2 0 2 0 2 0 2 0]\n",
      " [0 2 0 2 0 2 0 2]\n",
      " [2 0 2 0 2 0 2 0]\n",
      " [0 2 0 2 0 2 0 2]\n",
      " [2 0 2 0 2 0 2 0]\n",
      " [0 2 0 2 0 2 0 2]\n",
      " [2 0 2 0 2 0 2 0]]\n"
     ]
    }
   ],
   "source": [
    "import numpy as np\n",
    "\n",
    "# Create an 8x8 matrix with a checkerboard pattern\n",
    "checkerboard_matrix = np.zeros((8, 8), dtype=int)\n",
    "\n",
    "# Fill the checkerboard pattern\n",
    "checkerboard_matrix[1::2, ::2] = 2\n",
    "checkerboard_matrix[::2, 1::2] = 2\n",
    "\n",
    "print(checkerboard_matrix)\n"
   ]
  },
  {
   "cell_type": "markdown",
   "metadata": {},
   "source": [
    "#### 20. Consider a (6,7,8) shape array, what is the index (x,y,z) of the 100th element? "
   ]
  },
  {
   "cell_type": "code",
   "execution_count": 43,
   "metadata": {},
   "outputs": [
    {
     "name": "stdout",
     "output_type": "stream",
     "text": [
      "Indices (x, y, z) of the 100th element: (1, 5, 3)\n"
     ]
    }
   ],
   "source": [
    "import numpy as np\n",
    "\n",
    "# Define the shape of the array\n",
    "shape = (6, 7, 8)\n",
    "\n",
    "# Find the indices (x, y, z) of the 100th element\n",
    "index_100th_element = np.unravel_index(99, shape)\n",
    "\n",
    "print(\"Indices (x, y, z) of the 100th element:\", index_100th_element)\n"
   ]
  },
  {
   "cell_type": "markdown",
   "metadata": {},
   "source": [
    "#### 21. Create a checkerboard 8x8 matrix using the tile function "
   ]
  },
  {
   "cell_type": "code",
   "execution_count": 45,
   "metadata": {},
   "outputs": [
    {
     "name": "stdout",
     "output_type": "stream",
     "text": [
      "[[0 1 0 1]\n",
      " [1 0 1 0]\n",
      " [0 1 0 1]\n",
      " [1 0 1 0]]\n"
     ]
    }
   ],
   "source": [
    "import numpy as np\n",
    "\n",
    "# Create a 2x2 matrix with a checkerboard pattern\n",
    "checkerboard_tile = np.array([[0, 1], [1, 0]])\n",
    "\n",
    "# Use the tile function to create an 8x8 matrix\n",
    "checkerboard_matrix = np.tile(checkerboard_tile, (2, 2))\n",
    "\n",
    "print(checkerboard_matrix)\n"
   ]
  },
  {
   "cell_type": "markdown",
   "metadata": {},
   "source": [
    "#### 22. Normalize a 5x5 random matrix"
   ]
  },
  {
   "cell_type": "code",
   "execution_count": 46,
   "metadata": {},
   "outputs": [
    {
     "name": "stdout",
     "output_type": "stream",
     "text": [
      "Original Matrix:\n",
      "[[0.94746923 0.0801141  0.78099373 0.18970783 0.05334986]\n",
      " [0.96099508 0.73539713 0.20605871 0.22491542 0.05164841]\n",
      " [0.56455153 0.06864789 0.43338566 0.77937543 0.16498443]\n",
      " [0.6297765  0.73009114 0.05727828 0.28409139 0.80326389]\n",
      " [0.65560646 0.31219616 0.81326876 0.55419716 0.67768244]]\n",
      "\n",
      "Normalized Matrix:\n",
      "[[ 1.55888    -1.27507871  1.01494516 -0.91699688 -1.36252703]\n",
      " [ 1.60307378  0.8659648  -0.86357271 -0.80196111 -1.36808628]\n",
      " [ 0.30775123 -1.31254289 -0.12081444  1.00965759 -0.99777705]\n",
      " [ 0.5208645   0.84862822 -1.34969147 -0.60861212  1.08770969]\n",
      " [ 0.60526021 -0.51678379  1.12039917  0.27391984  0.67739029]]\n"
     ]
    }
   ],
   "source": [
    "import numpy as np\n",
    "\n",
    "# Create a 5x5 random matrix\n",
    "random_matrix = np.random.rand(5, 5)\n",
    "\n",
    "# Calculate mean and standard deviation\n",
    "mean_value = np.mean(random_matrix)\n",
    "std_deviation = np.std(random_matrix)\n",
    "\n",
    "# Normalize the matrix\n",
    "normalized_matrix = (random_matrix - mean_value) / std_deviation\n",
    "\n",
    "print(\"Original Matrix:\")\n",
    "print(random_matrix)\n",
    "print(\"\\nNormalized Matrix:\")\n",
    "print(normalized_matrix)\n"
   ]
  },
  {
   "cell_type": "markdown",
   "metadata": {},
   "source": [
    "#### 23. Create a custom dtype that describes a color as four unsigned bytes (RGBA)"
   ]
  },
  {
   "cell_type": "code",
   "execution_count": 47,
   "metadata": {},
   "outputs": [
    {
     "name": "stdout",
     "output_type": "stream",
     "text": [
      "Custom RGBA dtype array:\n",
      "[(255,   0,   0, 255) (  0, 255,   0, 255) (  0,   0, 255, 255)]\n"
     ]
    }
   ],
   "source": [
    "import numpy as np\n",
    "\n",
    "# Define a custom dtype for RGBA color\n",
    "rgba_dtype = np.dtype([('R', np.uint8), ('G', np.uint8), ('B', np.uint8), ('A', np.uint8)])\n",
    "\n",
    "# Create an array with the custom dtype\n",
    "color_array = np.array([(255, 0, 0, 255),  # Red\n",
    "                        (0, 255, 0, 255),  # Green\n",
    "                        (0, 0, 255, 255)], # Blue\n",
    "                       dtype=rgba_dtype)\n",
    "\n",
    "print(\"Custom RGBA dtype array:\")\n",
    "print(color_array)\n"
   ]
  },
  {
   "cell_type": "markdown",
   "metadata": {},
   "source": [
    "#### 24. Multiply a 5x3 matrix by a 3x2 matrix (real matrix product) "
   ]
  },
  {
   "cell_type": "code",
   "execution_count": 48,
   "metadata": {},
   "outputs": [
    {
     "name": "stdout",
     "output_type": "stream",
     "text": [
      "Matrix A (5x3):\n",
      "[[0.49261724 0.16198838 0.89677006]\n",
      " [0.93093885 0.85992361 0.85106653]\n",
      " [0.79099787 0.26114898 0.1693496 ]\n",
      " [0.17551863 0.06022587 0.97046799]\n",
      " [0.37624511 0.90458221 0.53197836]]\n",
      "\n",
      "Matrix B (3x2):\n",
      "[[0.22437045 0.28398149]\n",
      " [0.33195132 0.26735251]\n",
      " [0.16121123 0.15444497]]\n",
      "\n",
      "Resulting Matrix (5x2) after multiplication:\n",
      "[[0.30887041 0.32170381]\n",
      " [0.63152943 0.62571508]\n",
      " [0.29146635 0.32060278]\n",
      " [0.21582359 0.21582948]\n",
      " [0.47045643 0.43085036]]\n"
     ]
    }
   ],
   "source": [
    "import numpy as np\n",
    "\n",
    "# Create a 5x3 matrix\n",
    "matrix_A = np.random.rand(5, 3)\n",
    "\n",
    "# Create a 3x2 matrix\n",
    "matrix_B = np.random.rand(3, 2)\n",
    "\n",
    "# Multiply the matrices to get the real matrix product\n",
    "result_matrix = np.dot(matrix_A, matrix_B)\n",
    "# Alternatively, you can use the @ operator:\n",
    "# result_matrix = matrix_A @ matrix_B\n",
    "\n",
    "print(\"Matrix A (5x3):\")\n",
    "print(matrix_A)\n",
    "print(\"\\nMatrix B (3x2):\")\n",
    "print(matrix_B)\n",
    "print(\"\\nResulting Matrix (5x2) after multiplication:\")\n",
    "print(result_matrix)\n"
   ]
  },
  {
   "cell_type": "markdown",
   "metadata": {},
   "source": [
    "#### 25. Given a 1D array, negate all elements which are between 3 and 8, in place. "
   ]
  },
  {
   "cell_type": "code",
   "execution_count": 49,
   "metadata": {},
   "outputs": [
    {
     "name": "stdout",
     "output_type": "stream",
     "text": [
      "Modified 1D Array:\n",
      "[ 1 -5 -4  9  2 -7 -6  3  8]\n"
     ]
    }
   ],
   "source": [
    "import numpy as np\n",
    "\n",
    "# Create a 1D array\n",
    "array_1d = np.array([1, 5, 4, 9, 2, 7, 6, 3, 8])\n",
    "\n",
    "# Negate elements between 3 and 8 in place\n",
    "array_1d[(array_1d > 3) & (array_1d < 8)] *= -1\n",
    "\n",
    "print(\"Modified 1D Array:\")\n",
    "print(array_1d)\n"
   ]
  },
  {
   "cell_type": "markdown",
   "metadata": {},
   "source": [
    "#### 26. What is the output of the following script?\n",
    "# Author: Jake VanderPlas\n",
    "\n",
    "###### print(sum(range(5),-1))\n",
    "###### from numpy import *\n",
    "###### print(sum(range(5),-1))"
   ]
  },
  {
   "cell_type": "code",
   "execution_count": 52,
   "metadata": {},
   "outputs": [
    {
     "name": "stdout",
     "output_type": "stream",
     "text": [
      "10\n",
      "10\n"
     ]
    }
   ],
   "source": [
    "# print(sum(range(5),-1))\n",
    "\n",
    "print(sum(range(5), -1))\n",
    "\n",
    "# from numpy import*\n",
    "from numpy import *\n",
    "\n",
    "# print(sum(range(5),-1))\n",
    "\n",
    "print(sum(range(5), -1))\n",
    "\n"
   ]
  },
  {
   "cell_type": "markdown",
   "metadata": {},
   "source": [
    "#### 27. Consider an integer vector Z, which of these expressions are legal? (★☆☆)\n",
    "\n",
    "###### Z**Z\n",
    "###### 2 << Z >> 2\n",
    "###### Z <- Z\n",
    "###### 1j*Z\n",
    "###### Z/1/1\n",
    "###### Z<Z>Z"
   ]
  },
  {
   "cell_type": "code",
   "execution_count": null,
   "metadata": {},
   "outputs": [],
   "source": [
    "# Z**Z: This expression raises each element of the array Z to the power of itself. It is legal.\n",
    "# << Z >> 2: This expression left shifts each element of the array Z by 2 bits and then right shifts the result by 2 bits. It is legal.\n",
    "# Z <- Z: This expression checks if each element of Z is less than its negation. It is legal.\n",
    "# 1j*Z: This expression multiplies each element of the array Z by the imaginary unit (1j). It is legal.\n",
    "# Z/1/1: This expression divides each element of the array Z by 1 twice. It is legal.\n",
    "# Z<Z>Z: This expression is not legal. Chaining comparison operators like this is not allowed in Python.\n",
    "# So, the legal expressions are:\n",
    "# Z**Z\n",
    "# << Z >> 2\n",
    "# Z <- Z\n",
    "# 1j*Z\n",
    "# Z/1/1\n",
    "\n",
    "#The last expression, Z<Z>Z, is not legal."
   ]
  },
  {
   "cell_type": "markdown",
   "metadata": {},
   "source": [
    "#### 28. What are the result of the following expressions?\n",
    "###### np.array(0) / np.array(0)\n",
    "###### np.array(0) // np.array(0)\n",
    "###### np.array([np.nan]).astype(int).astype(float)"
   ]
  },
  {
   "cell_type": "code",
   "execution_count": 53,
   "metadata": {},
   "outputs": [
    {
     "name": "stdout",
     "output_type": "stream",
     "text": [
      "Result 1: nan\n",
      "Result 2: 0\n",
      "Result 3: [-2.14748365e+09]\n"
     ]
    },
    {
     "name": "stderr",
     "output_type": "stream",
     "text": [
      "C:\\Users\\halim\\AppData\\Local\\Temp\\ipykernel_10144\\1508490160.py:3: RuntimeWarning: invalid value encountered in divide\n",
      "  result1 = np.array(0) / np.array(0)\n",
      "C:\\Users\\halim\\AppData\\Local\\Temp\\ipykernel_10144\\1508490160.py:4: RuntimeWarning: divide by zero encountered in floor_divide\n",
      "  result2 = np.array(0) // np.array(0)\n",
      "C:\\Users\\halim\\AppData\\Local\\Temp\\ipykernel_10144\\1508490160.py:5: RuntimeWarning: invalid value encountered in cast\n",
      "  result3 = np.array([np.nan]).astype(int).astype(float)\n"
     ]
    }
   ],
   "source": [
    "import numpy as np\n",
    "\n",
    "result1 = np.array(0) / np.array(0)\n",
    "result2 = np.array(0) // np.array(0)\n",
    "result3 = np.array([np.nan]).astype(int).astype(float)\n",
    "\n",
    "print(\"Result 1:\", result1)\n",
    "print(\"Result 2:\", result2)\n",
    "print(\"Result 3:\", result3)\n"
   ]
  },
  {
   "cell_type": "markdown",
   "metadata": {},
   "source": [
    "#### 29. How to round away from zero a float array ? "
   ]
  },
  {
   "cell_type": "code",
   "execution_count": 54,
   "metadata": {},
   "outputs": [
    {
     "name": "stdout",
     "output_type": "stream",
     "text": [
      "Original Float Array:\n",
      "[-1.5  2.7 -3.1  4.9]\n",
      "\n",
      "Rounded Array (away from zero):\n",
      "[-2.  3. -4.  5.]\n"
     ]
    }
   ],
   "source": [
    "import numpy as np\n",
    "\n",
    "# Create a float array\n",
    "float_array = np.array([-1.5, 2.7, -3.1, 4.9])\n",
    "\n",
    "# Round away from zero\n",
    "rounded_array = np.where(float_array >= 0, np.ceil(float_array), np.floor(float_array))\n",
    "\n",
    "print(\"Original Float Array:\")\n",
    "print(float_array)\n",
    "print(\"\\nRounded Array (away from zero):\")\n",
    "print(rounded_array)\n"
   ]
  },
  {
   "cell_type": "markdown",
   "metadata": {},
   "source": [
    "#### 30. How to find common values between two arrays?"
   ]
  },
  {
   "cell_type": "code",
   "execution_count": 55,
   "metadata": {},
   "outputs": [
    {
     "name": "stdout",
     "output_type": "stream",
     "text": [
      "Array 1: [1 2 3 4 5]\n",
      "Array 2: [3 4 5 6 7]\n",
      "Common Values: [3 4 5]\n"
     ]
    }
   ],
   "source": [
    "import numpy as np\n",
    "\n",
    "# Create two arrays\n",
    "array1 = np.array([1, 2, 3, 4, 5])\n",
    "array2 = np.array([3, 4, 5, 6, 7])\n",
    "\n",
    "# Find common values\n",
    "common_values = np.intersect1d(array1, array2)\n",
    "\n",
    "print(\"Array 1:\", array1)\n",
    "print(\"Array 2:\", array2)\n",
    "print(\"Common Values:\", common_values)\n"
   ]
  },
  {
   "cell_type": "markdown",
   "metadata": {},
   "source": [
    "#### 31. How to ignore all numpy warnings (not recommended)? "
   ]
  },
  {
   "cell_type": "code",
   "execution_count": null,
   "metadata": {},
   "outputs": [],
   "source": [
    "import numpy as np\n",
    "\n",
    "# Ignore all NumPy warnings\n",
    "np.seterr(all='ignore')\n",
    "\n",
    "# Your code here\n",
    "\n",
    "# Reset to the default warning settings if needed\n",
    "np.seterr(all='warn')\n"
   ]
  },
  {
   "cell_type": "markdown",
   "metadata": {},
   "source": [
    "#### 32. Is the following expressions true? (★☆☆)\n",
    "##### np.sqrt(-1) == np.emath.sqrt(-1)"
   ]
  },
  {
   "cell_type": "code",
   "execution_count": 57,
   "metadata": {},
   "outputs": [
    {
     "name": "stdout",
     "output_type": "stream",
     "text": [
      "nan\n",
      "1j\n"
     ]
    },
    {
     "name": "stderr",
     "output_type": "stream",
     "text": [
      "C:\\Users\\halim\\AppData\\Local\\Temp\\ipykernel_10144\\2053205356.py:3: RuntimeWarning: invalid value encountered in sqrt\n",
      "  result_np_sqrt = np.sqrt(-1)\n"
     ]
    }
   ],
   "source": [
    "import numpy as np\n",
    "\n",
    "result_np_sqrt = np.sqrt(-1)\n",
    "print(result_np_sqrt)\n",
    "\n",
    "result_emath_sqrt = np.emath.sqrt(-1)\n",
    "print(result_emath_sqrt) \n"
   ]
  },
  {
   "cell_type": "markdown",
   "metadata": {},
   "source": [
    "#### 33. How to get the dates of yesterday, today and tomorrow?"
   ]
  },
  {
   "cell_type": "code",
   "execution_count": 58,
   "metadata": {},
   "outputs": [
    {
     "name": "stdout",
     "output_type": "stream",
     "text": [
      "Yesterday: 2024-02-04\n",
      "Today: 2024-02-05\n",
      "Tomorrow: 2024-02-06\n"
     ]
    }
   ],
   "source": [
    "from datetime import datetime, timedelta\n",
    "\n",
    "# Get today's date\n",
    "today = datetime.now().date()\n",
    "\n",
    "# Get yesterday's date\n",
    "yesterday = today - timedelta(days=1)\n",
    "\n",
    "# Get tomorrow's date\n",
    "tomorrow = today + timedelta(days=1)\n",
    "\n",
    "print(\"Yesterday:\", yesterday)\n",
    "print(\"Today:\", today)\n",
    "print(\"Tomorrow:\", tomorrow)\n"
   ]
  },
  {
   "cell_type": "markdown",
   "metadata": {},
   "source": [
    "#### 34. How to get all the dates corresponding to the month of July 2016?"
   ]
  },
  {
   "cell_type": "code",
   "execution_count": 59,
   "metadata": {},
   "outputs": [
    {
     "name": "stdout",
     "output_type": "stream",
     "text": [
      "2016-07-01 00:00:00\n",
      "2016-07-02 00:00:00\n",
      "2016-07-03 00:00:00\n",
      "2016-07-04 00:00:00\n",
      "2016-07-05 00:00:00\n",
      "2016-07-06 00:00:00\n",
      "2016-07-07 00:00:00\n",
      "2016-07-08 00:00:00\n",
      "2016-07-09 00:00:00\n",
      "2016-07-10 00:00:00\n",
      "2016-07-11 00:00:00\n",
      "2016-07-12 00:00:00\n",
      "2016-07-13 00:00:00\n",
      "2016-07-14 00:00:00\n",
      "2016-07-15 00:00:00\n",
      "2016-07-16 00:00:00\n",
      "2016-07-17 00:00:00\n",
      "2016-07-18 00:00:00\n",
      "2016-07-19 00:00:00\n",
      "2016-07-20 00:00:00\n",
      "2016-07-21 00:00:00\n",
      "2016-07-22 00:00:00\n",
      "2016-07-23 00:00:00\n",
      "2016-07-24 00:00:00\n",
      "2016-07-25 00:00:00\n",
      "2016-07-26 00:00:00\n",
      "2016-07-27 00:00:00\n",
      "2016-07-28 00:00:00\n",
      "2016-07-29 00:00:00\n",
      "2016-07-30 00:00:00\n",
      "2016-07-31 00:00:00\n"
     ]
    }
   ],
   "source": [
    "from datetime import datetime, timedelta\n",
    "\n",
    "# Define the start date and end date of July 2016\n",
    "start_date = datetime(2016, 7, 1)\n",
    "end_date = datetime(2016, 7, 31)\n",
    "\n",
    "# Generate all dates for July 2016\n",
    "all_dates_july_2016 = [start_date + timedelta(days=x) for x in range((end_date - start_date).days + 1)]\n",
    "\n",
    "# Print the list of dates\n",
    "for date in all_dates_july_2016:\n",
    "    print(date)\n"
   ]
  },
  {
   "cell_type": "markdown",
   "metadata": {},
   "source": [
    "#### 35. How to compute ((A+B)*(-A/2)) in place (without copy)?"
   ]
  },
  {
   "cell_type": "code",
   "execution_count": 61,
   "metadata": {},
   "outputs": [
    {
     "name": "stdout",
     "output_type": "stream",
     "text": [
      "Result: [ -2.5  -7.  -13.5]\n"
     ]
    }
   ],
   "source": [
    "import numpy as np\n",
    "\n",
    "# Create arrays A and B with data type float64\n",
    "A = np.array([1, 2, 3], dtype=float)\n",
    "B = np.array([4, 5, 6], dtype=float)\n",
    "\n",
    "# Compute ((A+B)*(-A/2)) in place\n",
    "result = np.multiply(np.add(A, B), np.divide(-A, 2), out=A)\n",
    "\n",
    "print(\"Result:\", result)\n"
   ]
  },
  {
   "cell_type": "markdown",
   "metadata": {},
   "source": [
    "#### 36. Extract the integer part of a random array of positive numbers using 4 different methods "
   ]
  },
  {
   "cell_type": "code",
   "execution_count": 63,
   "metadata": {},
   "outputs": [
    {
     "name": "stdout",
     "output_type": "stream",
     "text": [
      "Method 1 - Floor: [7. 6. 5. 1. 5.]\n",
      "Method 2 - Ceil: [8. 7. 6. 2. 6.]\n",
      "Method 3 - Trunc: [7. 6. 5. 1. 5.]\n",
      "Method 4 - Astype: [7 6 5 1 5]\n"
     ]
    }
   ],
   "source": [
    "# Method 1 using numpy.floor\n",
    "\n",
    "import numpy as np\n",
    "\n",
    "# Create a random array of positive numbers\n",
    "random_array = np.random.rand(5) * 10\n",
    "integer_part_floor = np.floor(random_array)\n",
    "print(\"Method 1 - Floor:\", integer_part_floor)\n",
    "\n",
    "# Method 2 using numpy.ceil\n",
    "integer_part_ceil = np.ceil(random_array)\n",
    "print(\"Method 2 - Ceil:\", integer_part_ceil)\n",
    "\n",
    "# Method 3: Using numpy.trunc\n",
    "integer_part_trunc = np.trunc(random_array)\n",
    "print(\"Method 3 - Trunc:\", integer_part_trunc)\n",
    "\n",
    "# Method 4: Using astype(int)\n",
    "integer_part_astype = random_array.astype(int)\n",
    "print(\"Method 4 - Astype:\", integer_part_astype)"
   ]
  },
  {
   "cell_type": "markdown",
   "metadata": {},
   "source": [
    "#### 37. Create a 5x5 matrix with row values ranging from 0 to 4 "
   ]
  },
  {
   "cell_type": "code",
   "execution_count": 64,
   "metadata": {},
   "outputs": [
    {
     "name": "stdout",
     "output_type": "stream",
     "text": [
      "[[0 1 2 3 4]\n",
      " [0 1 2 3 4]\n",
      " [0 1 2 3 4]\n",
      " [0 1 2 3 4]\n",
      " [0 1 2 3 4]]\n"
     ]
    }
   ],
   "source": [
    "import numpy as np\n",
    "\n",
    "# Create a 5x5 matrix with row values ranging from 0 to 4\n",
    "matrix = np.tile(np.arange(5), (5, 1))\n",
    "\n",
    "print(matrix)\n"
   ]
  },
  {
   "cell_type": "markdown",
   "metadata": {},
   "source": [
    "#### 38. Consider a generator function that generates 10 integers and use it to build an array"
   ]
  },
  {
   "cell_type": "code",
   "execution_count": 65,
   "metadata": {},
   "outputs": [
    {
     "name": "stdout",
     "output_type": "stream",
     "text": [
      "Generated Array: [0 1 2 3 4 5 6 7 8 9]\n"
     ]
    }
   ],
   "source": [
    "import numpy as np\n",
    "\n",
    "# Generator function to yield 10 integers\n",
    "def generate_integers():\n",
    "    for i in range(10):\n",
    "        yield i\n",
    "\n",
    "# Use the generator to build an array\n",
    "generated_array = np.fromiter(generate_integers(), dtype=int)\n",
    "\n",
    "print(\"Generated Array:\", generated_array)\n"
   ]
  },
  {
   "cell_type": "markdown",
   "metadata": {},
   "source": [
    "#### 39. Create a vector of size 10 with values ranging from 0 to 1, both excluded"
   ]
  },
  {
   "cell_type": "code",
   "execution_count": 66,
   "metadata": {},
   "outputs": [
    {
     "name": "stdout",
     "output_type": "stream",
     "text": [
      "Resulting Vector: [0.09090909 0.18181818 0.27272727 0.36363636 0.45454545 0.54545455\n",
      " 0.63636364 0.72727273 0.81818182 0.90909091]\n"
     ]
    }
   ],
   "source": [
    "import numpy as np\n",
    "\n",
    "# Create a vector of size 10 with values ranging from 0 to 1 (both excluded)\n",
    "vector = np.linspace(0, 1, 12)[1:-1]\n",
    "\n",
    "print(\"Resulting Vector:\", vector)\n"
   ]
  },
  {
   "cell_type": "markdown",
   "metadata": {},
   "source": [
    "#### 40. Create a random vector of size 10 and sort it"
   ]
  },
  {
   "cell_type": "code",
   "execution_count": 67,
   "metadata": {},
   "outputs": [
    {
     "name": "stdout",
     "output_type": "stream",
     "text": [
      "Random Vector: [0.59111138 0.52682654 0.65672366 0.78159933 0.11446581 0.93712263\n",
      " 0.58015907 0.31170332 0.61889946 0.71607507]\n",
      "Sorted Vector: [0.11446581 0.31170332 0.52682654 0.58015907 0.59111138 0.61889946\n",
      " 0.65672366 0.71607507 0.78159933 0.93712263]\n"
     ]
    }
   ],
   "source": [
    "import numpy as np\n",
    "\n",
    "# Create a random vector of size 10\n",
    "random_vector = np.random.rand(10)\n",
    "\n",
    "# Sort the random vector\n",
    "sorted_vector = np.sort(random_vector)\n",
    "\n",
    "print(\"Random Vector:\", random_vector)\n",
    "print(\"Sorted Vector:\", sorted_vector)\n"
   ]
  },
  {
   "cell_type": "markdown",
   "metadata": {},
   "source": [
    "#### 41. How to sum a small array faster than np.sum?"
   ]
  },
  {
   "cell_type": "code",
   "execution_count": 68,
   "metadata": {},
   "outputs": [
    {
     "name": "stdout",
     "output_type": "stream",
     "text": [
      "Result using built-in sum: 15\n",
      "Result using np.sum: 15\n"
     ]
    }
   ],
   "source": [
    "import numpy as np\n",
    "\n",
    "# Create a small array\n",
    "small_array = np.array([1, 2, 3, 4, 5])\n",
    "\n",
    "# Use the built-in sum function\n",
    "result_builtin_sum = sum(small_array)\n",
    "\n",
    "# Use np.sum\n",
    "result_np_sum = np.sum(small_array)\n",
    "\n",
    "print(\"Result using built-in sum:\", result_builtin_sum)\n",
    "print(\"Result using np.sum:\", result_np_sum)\n"
   ]
  },
  {
   "cell_type": "markdown",
   "metadata": {},
   "source": [
    "#### 42. Consider two random array A and B, check if they are equal"
   ]
  },
  {
   "cell_type": "code",
   "execution_count": 69,
   "metadata": {},
   "outputs": [
    {
     "name": "stdout",
     "output_type": "stream",
     "text": [
      "Array A: [0.01586047 0.82192117 0.9607978  0.24668648 0.91893897]\n",
      "Array B: [0.06258246 0.03405306 0.88856864 0.25574611 0.78915791]\n",
      "Arrays A and B are not equal.\n"
     ]
    }
   ],
   "source": [
    "import numpy as np\n",
    "\n",
    "# Create two random arrays A and B\n",
    "A = np.random.rand(5)\n",
    "B = np.random.rand(5)\n",
    "\n",
    "# Check if arrays A and B are equal\n",
    "are_equal = np.array_equal(A, B)\n",
    "\n",
    "print(\"Array A:\", A)\n",
    "print(\"Array B:\", B)\n",
    "\n",
    "if are_equal:\n",
    "    print(\"Arrays A and B are equal.\")\n",
    "else:\n",
    "    print(\"Arrays A and B are not equal.\")\n"
   ]
  },
  {
   "cell_type": "markdown",
   "metadata": {},
   "source": [
    "#### 43. Make an array immutable (read-only)"
   ]
  },
  {
   "cell_type": "code",
   "execution_count": 70,
   "metadata": {},
   "outputs": [
    {
     "name": "stdout",
     "output_type": "stream",
     "text": [
      "Error: assignment destination is read-only\n",
      "Original Array: [1 2 3 4 5]\n",
      "Immutable Array: [1 2 3 4 5]\n",
      "Is Read-Only: False\n"
     ]
    }
   ],
   "source": [
    "import numpy as np\n",
    "\n",
    "# Create a NumPy array\n",
    "original_array = np.array([1, 2, 3, 4, 5])\n",
    "\n",
    "# Make the array immutable (read-only)\n",
    "immutable_array = original_array.copy()\n",
    "immutable_array.flags.writeable = False\n",
    "\n",
    "# Try to modify the immutable array (this will raise an error)\n",
    "try:\n",
    "    immutable_array[0] = 10\n",
    "except ValueError as e:\n",
    "    print(f\"Error: {e}\")\n",
    "\n",
    "# Check if the array is read-only\n",
    "is_readonly = immutable_array.flags.writeable\n",
    "\n",
    "print(\"Original Array:\", original_array)\n",
    "print(\"Immutable Array:\", immutable_array)\n",
    "print(\"Is Read-Only:\", is_readonly)\n"
   ]
  },
  {
   "cell_type": "markdown",
   "metadata": {},
   "source": [
    "#### 44. Consider a random 10x2 matrix representing cartesian coordinates, convert them to polar coordinates "
   ]
  },
  {
   "cell_type": "code",
   "execution_count": 71,
   "metadata": {},
   "outputs": [
    {
     "name": "stdout",
     "output_type": "stream",
     "text": [
      "Cartesian Coordinates:\n",
      "[[0.00303806 0.63986746]\n",
      " [0.09929938 0.71373997]\n",
      " [0.99866749 0.5784886 ]\n",
      " [0.53901221 0.51574391]\n",
      " [0.69844144 0.04370899]\n",
      " [0.40522306 0.70676796]\n",
      " [0.05237651 0.68820373]\n",
      " [0.1014918  0.39976033]\n",
      " [0.4440129  0.18957516]\n",
      " [0.85504994 0.98709057]]\n",
      "\n",
      "Polar Coordinates:\n",
      "[[0.63987467 1.56604841]\n",
      " [0.7206144  1.43255825]\n",
      " [1.1541169  0.52503024]\n",
      " [0.74600666 0.76334139]\n",
      " [0.69980777 0.06249925]\n",
      " [0.81469423 1.05020545]\n",
      " [0.69019394 1.49483664]\n",
      " [0.41244261 1.32216774]\n",
      " [0.48279001 0.40352849]\n",
      " [1.30593192 0.85695361]]\n"
     ]
    }
   ],
   "source": [
    "import numpy as np\n",
    "\n",
    "# Create a random 10x2 matrix representing Cartesian coordinates\n",
    "cartesian_coordinates = np.random.rand(10, 2)\n",
    "\n",
    "# Extract x and y coordinates\n",
    "x = cartesian_coordinates[:, 0]\n",
    "y = cartesian_coordinates[:, 1]\n",
    "\n",
    "# Convert to polar coordinates\n",
    "radius = np.sqrt(x**2 + y**2)\n",
    "theta = np.arctan2(y, x)\n",
    "\n",
    "# Create a polar coordinates matrix\n",
    "polar_coordinates = np.column_stack((radius, theta))\n",
    "\n",
    "print(\"Cartesian Coordinates:\")\n",
    "print(cartesian_coordinates)\n",
    "print(\"\\nPolar Coordinates:\")\n",
    "print(polar_coordinates)\n"
   ]
  },
  {
   "cell_type": "markdown",
   "metadata": {},
   "source": [
    "#### 45. Create random vector of size 10 and replace the maximum value by 0"
   ]
  },
  {
   "cell_type": "code",
   "execution_count": 72,
   "metadata": {},
   "outputs": [
    {
     "name": "stdout",
     "output_type": "stream",
     "text": [
      "Original Random Vector: [0.42028672 0.20916362 0.50078569 0.         0.656171   0.63520978\n",
      " 0.85102157 0.18275209 0.6922153  0.24702809]\n"
     ]
    }
   ],
   "source": [
    "import numpy as np\n",
    "\n",
    "# Create a random vector of size 10\n",
    "random_vector = np.random.rand(10)\n",
    "\n",
    "# Find the index of the maximum value\n",
    "max_index = np.argmax(random_vector)\n",
    "\n",
    "# Replace the maximum value with 0\n",
    "random_vector[max_index] = 0\n",
    "\n",
    "print(\"Original Random Vector:\", random_vector)\n"
   ]
  },
  {
   "cell_type": "markdown",
   "metadata": {},
   "source": [
    "#### 46. Create a structured array with x and y coordinates covering the [0,1]x[0,1] area "
   ]
  },
  {
   "cell_type": "code",
   "execution_count": 1,
   "metadata": {},
   "outputs": [
    {
     "name": "stdout",
     "output_type": "stream",
     "text": [
      "[[(0.        , 0.        ) (0.11111111, 0.        )\n",
      "  (0.22222222, 0.        ) (0.33333333, 0.        )\n",
      "  (0.44444444, 0.        ) (0.55555556, 0.        )\n",
      "  (0.66666667, 0.        ) (0.77777778, 0.        )\n",
      "  (0.88888889, 0.        ) (1.        , 0.        )]\n",
      " [(0.        , 0.11111111) (0.11111111, 0.11111111)\n",
      "  (0.22222222, 0.11111111) (0.33333333, 0.11111111)\n",
      "  (0.44444444, 0.11111111) (0.55555556, 0.11111111)\n",
      "  (0.66666667, 0.11111111) (0.77777778, 0.11111111)\n",
      "  (0.88888889, 0.11111111) (1.        , 0.11111111)]\n",
      " [(0.        , 0.22222222) (0.11111111, 0.22222222)\n",
      "  (0.22222222, 0.22222222) (0.33333333, 0.22222222)\n",
      "  (0.44444444, 0.22222222) (0.55555556, 0.22222222)\n",
      "  (0.66666667, 0.22222222) (0.77777778, 0.22222222)\n",
      "  (0.88888889, 0.22222222) (1.        , 0.22222222)]\n",
      " [(0.        , 0.33333333) (0.11111111, 0.33333333)\n",
      "  (0.22222222, 0.33333333) (0.33333333, 0.33333333)\n",
      "  (0.44444444, 0.33333333) (0.55555556, 0.33333333)\n",
      "  (0.66666667, 0.33333333) (0.77777778, 0.33333333)\n",
      "  (0.88888889, 0.33333333) (1.        , 0.33333333)]\n",
      " [(0.        , 0.44444444) (0.11111111, 0.44444444)\n",
      "  (0.22222222, 0.44444444) (0.33333333, 0.44444444)\n",
      "  (0.44444444, 0.44444444) (0.55555556, 0.44444444)\n",
      "  (0.66666667, 0.44444444) (0.77777778, 0.44444444)\n",
      "  (0.88888889, 0.44444444) (1.        , 0.44444444)]\n",
      " [(0.        , 0.55555556) (0.11111111, 0.55555556)\n",
      "  (0.22222222, 0.55555556) (0.33333333, 0.55555556)\n",
      "  (0.44444444, 0.55555556) (0.55555556, 0.55555556)\n",
      "  (0.66666667, 0.55555556) (0.77777778, 0.55555556)\n",
      "  (0.88888889, 0.55555556) (1.        , 0.55555556)]\n",
      " [(0.        , 0.66666667) (0.11111111, 0.66666667)\n",
      "  (0.22222222, 0.66666667) (0.33333333, 0.66666667)\n",
      "  (0.44444444, 0.66666667) (0.55555556, 0.66666667)\n",
      "  (0.66666667, 0.66666667) (0.77777778, 0.66666667)\n",
      "  (0.88888889, 0.66666667) (1.        , 0.66666667)]\n",
      " [(0.        , 0.77777778) (0.11111111, 0.77777778)\n",
      "  (0.22222222, 0.77777778) (0.33333333, 0.77777778)\n",
      "  (0.44444444, 0.77777778) (0.55555556, 0.77777778)\n",
      "  (0.66666667, 0.77777778) (0.77777778, 0.77777778)\n",
      "  (0.88888889, 0.77777778) (1.        , 0.77777778)]\n",
      " [(0.        , 0.88888889) (0.11111111, 0.88888889)\n",
      "  (0.22222222, 0.88888889) (0.33333333, 0.88888889)\n",
      "  (0.44444444, 0.88888889) (0.55555556, 0.88888889)\n",
      "  (0.66666667, 0.88888889) (0.77777778, 0.88888889)\n",
      "  (0.88888889, 0.88888889) (1.        , 0.88888889)]\n",
      " [(0.        , 1.        ) (0.11111111, 1.        )\n",
      "  (0.22222222, 1.        ) (0.33333333, 1.        )\n",
      "  (0.44444444, 1.        ) (0.55555556, 1.        )\n",
      "  (0.66666667, 1.        ) (0.77777778, 1.        )\n",
      "  (0.88888889, 1.        ) (1.        , 1.        )]]\n"
     ]
    }
   ],
   "source": [
    "import numpy as np\n",
    "\n",
    "# Define the dtype for the structured array\n",
    "dtype = [('x', float), ('y', float)]\n",
    "\n",
    "# Generate x and y coordinates covering the [0,1]x[0,1] area\n",
    "num_points = 10\n",
    "x_coordinates = np.linspace(0, 1, num_points)\n",
    "y_coordinates = np.linspace(0, 1, num_points)\n",
    "\n",
    "# Create a meshgrid from x and y coordinates\n",
    "x_mesh, y_mesh = np.meshgrid(x_coordinates, y_coordinates)\n",
    "\n",
    "# Combine x and y coordinates into a structured array\n",
    "structured_array = np.empty(x_mesh.shape, dtype=dtype)\n",
    "structured_array['x'] = x_mesh\n",
    "structured_array['y'] = y_mesh\n",
    "\n",
    "print(structured_array)\n"
   ]
  },
  {
   "cell_type": "markdown",
   "metadata": {},
   "source": [
    "#### 47. Given two arrays, X and Y, construct the Cauchy matrix C (Cij =1/(xi - yj)) "
   ]
  },
  {
   "cell_type": "code",
   "execution_count": 2,
   "metadata": {},
   "outputs": [
    {
     "name": "stdout",
     "output_type": "stream",
     "text": [
      "[[-0.33333333 -0.25      ]\n",
      " [-0.5        -0.33333333]\n",
      " [-1.         -0.5       ]]\n"
     ]
    }
   ],
   "source": [
    "import numpy as np\n",
    "\n",
    "def cauchy_matrix(X, Y):\n",
    "    \"\"\"\n",
    "    Construct the Cauchy matrix given arrays X and Y.\n",
    "\n",
    "    Parameters:\n",
    "        X (ndarray): 1D array representing the x-coordinates.\n",
    "        Y (ndarray): 1D array representing the y-coordinates.\n",
    "\n",
    "    Returns:\n",
    "        ndarray: Cauchy matrix C.\n",
    "    \"\"\"\n",
    "    # Ensure X and Y are 1D arrays\n",
    "    X = np.asarray(X)\n",
    "    Y = np.asarray(Y)\n",
    "    \n",
    "    # Compute differences between elements of X and Y using broadcasting\n",
    "    differences = 1.0 / (X[:, np.newaxis] - Y)\n",
    "    \n",
    "    return differences\n",
    "\n",
    "# Example usage:\n",
    "X = np.array([1, 2, 3])\n",
    "Y = np.array([4, 5])\n",
    "\n",
    "C = cauchy_matrix(X, Y)\n",
    "print(C)\n"
   ]
  },
  {
   "cell_type": "markdown",
   "metadata": {},
   "source": [
    "#### 48. Print the minimum and maximum representable value for each numpy scalar type"
   ]
  },
  {
   "cell_type": "code",
   "execution_count": 4,
   "metadata": {},
   "outputs": [
    {
     "name": "stdout",
     "output_type": "stream",
     "text": [
      "Integer types:\n",
      "int8: Min=-128, Max=127\n",
      "int16: Min=-32768, Max=32767\n",
      "int32: Min=-2147483648, Max=2147483647\n",
      "int64: Min=-9223372036854775808, Max=9223372036854775807\n",
      "\n",
      "Unsigned integer types:\n",
      "uint8: Min=0, Max=255\n",
      "uint16: Min=0, Max=65535\n",
      "uint32: Min=0, Max=4294967295\n",
      "uint64: Min=0, Max=18446744073709551615\n",
      "\n",
      "Floating point types:\n",
      "float16: Min=-65504.0, Max=65504.0\n",
      "float32: Min=-3.4028234663852886e+38, Max=3.4028234663852886e+38\n",
      "float64: Min=-1.7976931348623157e+308, Max=1.7976931348623157e+308\n"
     ]
    }
   ],
   "source": [
    "import numpy as np\n",
    "\n",
    "# Integer types\n",
    "print(\"Integer types:\")\n",
    "for dtype in [np.int8, np.int16, np.int32, np.int64]:\n",
    "    info = np.iinfo(dtype)\n",
    "    print(f\"{dtype.__name__}: Min={info.min}, Max={info.max}\")\n",
    "\n",
    "# Unsigned integer types\n",
    "print(\"\\nUnsigned integer types:\")\n",
    "for dtype in [np.uint8, np.uint16, np.uint32, np.uint64]:\n",
    "    info = np.iinfo(dtype)\n",
    "    print(f\"{dtype.__name__}: Min={info.min}, Max={info.max}\")\n",
    "\n",
    "# Floating point types\n",
    "print(\"\\nFloating point types:\")\n",
    "for dtype in [np.float16, np.float32, np.float64]:\n",
    "    info = np.finfo(dtype)\n",
    "    print(f\"{dtype.__name__}: Min={info.min}, Max={info.max}\")\n"
   ]
  },
  {
   "cell_type": "markdown",
   "metadata": {},
   "source": [
    "#### 49. How to print all the values of an array?"
   ]
  },
  {
   "cell_type": "code",
   "execution_count": 5,
   "metadata": {},
   "outputs": [
    {
     "name": "stdout",
     "output_type": "stream",
     "text": [
      "[1 2 3 4 5]\n"
     ]
    }
   ],
   "source": [
    "import numpy as np\n",
    "\n",
    "arr = np.array([1, 2, 3, 4, 5])\n",
    "\n",
    "print(arr)\n"
   ]
  },
  {
   "cell_type": "markdown",
   "metadata": {},
   "source": [
    "#### 50. How to find the closest value (to a given scalar) in a vector? "
   ]
  },
  {
   "cell_type": "code",
   "execution_count": 6,
   "metadata": {},
   "outputs": [
    {
     "name": "stdout",
     "output_type": "stream",
     "text": [
      "Closest value to 6 in the vector is: 5\n"
     ]
    }
   ],
   "source": [
    "import numpy as np\n",
    "\n",
    "def find_closest_value(vector, scalar):\n",
    "    \"\"\"Find the closest value to a given scalar in a vector.\"\"\"\n",
    "    idx = np.abs(vector - scalar).argmin()\n",
    "    return vector[idx]\n",
    "\n",
    "# Example usage:\n",
    "vector = np.array([1, 3, 5, 7, 9])\n",
    "scalar = 6\n",
    "closest_value = find_closest_value(vector, scalar)\n",
    "print(\"Closest value to\", scalar, \"in the vector is:\", closest_value)\n"
   ]
  },
  {
   "cell_type": "markdown",
   "metadata": {},
   "source": [
    "#### 51. Create a structured array representing a position (x,y) and a color (r,g,b)"
   ]
  },
  {
   "cell_type": "code",
   "execution_count": 7,
   "metadata": {},
   "outputs": [
    {
     "name": "stdout",
     "output_type": "stream",
     "text": [
      "[((1., 2.), (255, 0, 0))]\n"
     ]
    }
   ],
   "source": [
    "import numpy as np\n",
    "\n",
    "# Define the dtype for the structured array\n",
    "dtype = [('position', [('x', float), ('y', float)]),\n",
    "         ('color', [('r', int), ('g', int), ('b', int)])]\n",
    "\n",
    "# Create an empty structured array\n",
    "structured_array = np.empty(1, dtype=dtype)\n",
    "\n",
    "# Fill in the values\n",
    "structured_array['position'] = [(1.0, 2.0)] \n",
    "structured_array['color'] = [(255, 0, 0)] \n",
    "\n",
    "print(structured_array)\n"
   ]
  },
  {
   "cell_type": "markdown",
   "metadata": {},
   "source": [
    "#### 52. Consider a random vector with shape (100,2) representing coordinates, find point by point distances"
   ]
  },
  {
   "cell_type": "code",
   "execution_count": 8,
   "metadata": {},
   "outputs": [
    {
     "name": "stdout",
     "output_type": "stream",
     "text": [
      "[[0.         0.7160517  0.12979389 ... 0.31553311 0.58908057 0.61891339]\n",
      " [0.7160517  0.         0.83876964 ... 0.53530916 0.54222573 0.4943502 ]\n",
      " [0.12979389 0.83876964 0.         ... 0.43779854 0.64796959 0.74080503]\n",
      " ...\n",
      " [0.31553311 0.53530916 0.43779854 ... 0.         0.6767605  0.30351592]\n",
      " [0.58908057 0.54222573 0.64796959 ... 0.6767605  0.         0.85878856]\n",
      " [0.61891339 0.4943502  0.74080503 ... 0.30351592 0.85878856 0.        ]]\n"
     ]
    }
   ],
   "source": [
    "import numpy as np\n",
    "\n",
    "# Generate random vector with shape (100, 2) representing coordinates\n",
    "coordinates = np.random.rand(100, 2)\n",
    "\n",
    "# Calculate point-by-point distances\n",
    "distances = np.sqrt(np.sum((coordinates[:, np.newaxis] - coordinates) ** 2, axis=-1))\n",
    "\n",
    "print(distances)\n"
   ]
  },
  {
   "cell_type": "markdown",
   "metadata": {},
   "source": [
    "#### 53. How to convert a float (32 bits) array into an integer (32 bits) in place?"
   ]
  },
  {
   "cell_type": "code",
   "execution_count": 9,
   "metadata": {},
   "outputs": [
    {
     "name": "stdout",
     "output_type": "stream",
     "text": [
      "[1.e-45 3.e-45 4.e-45]\n"
     ]
    }
   ],
   "source": [
    "import numpy as np\n",
    "\n",
    "# Create a float (32 bits) array\n",
    "float_array = np.array([1.5, 2.7, 3.9], dtype=np.float32)\n",
    "\n",
    "# Convert the float (32 bits) array into an integer (32 bits) array in place\n",
    "float_array.view(dtype=np.int32)[:] = float_array\n",
    "\n",
    "print(float_array)\n"
   ]
  },
  {
   "cell_type": "markdown",
   "metadata": {},
   "source": [
    "#### 54. How to read the following file?\n",
    "###### 1, 2, 3, 4, 5\n",
    "###### 6,  ,  , 7, 8\n",
    "###### ,  , 9,10,11"
   ]
  },
  {
   "cell_type": "code",
   "execution_count": 15,
   "metadata": {},
   "outputs": [
    {
     "name": "stdout",
     "output_type": "stream",
     "text": [
      "[[ 1.  2.  3.  4.  5.]\n",
      " [ 6. nan nan  7.  8.]\n",
      " [nan nan  9. 10. 11.]]\n"
     ]
    }
   ],
   "source": [
    "import numpy as np\n",
    "\n",
    "data_str = \"\"\"1, 2, 3, 4, 5\n",
    "6,  ,  , 7, 8\n",
    " ,  , 9, 10, 11\"\"\"\n",
    "\n",
    "# Split the string into lines and then into values\n",
    "lines = data_str.strip().split('\\n')\n",
    "data = [[float(val.strip()) if val.strip() else np.nan for val in line.split(',')] for line in lines]\n",
    "\n",
    "# Convert the data into a NumPy array\n",
    "data = np.array(data)\n",
    "\n",
    "print(data)\n"
   ]
  },
  {
   "cell_type": "markdown",
   "metadata": {},
   "source": [
    "#### 55. What is the equivalent of enumerate for numpy arrays?"
   ]
  },
  {
   "cell_type": "code",
   "execution_count": 16,
   "metadata": {},
   "outputs": [
    {
     "name": "stdout",
     "output_type": "stream",
     "text": [
      "(0, 0) 1\n",
      "(0, 1) 2\n",
      "(1, 0) 3\n",
      "(1, 1) 4\n",
      "(2, 0) 5\n",
      "(2, 1) 6\n"
     ]
    }
   ],
   "source": [
    "import numpy as np\n",
    "\n",
    "arr = np.array([[1, 2], [3, 4], [5, 6]])\n",
    "\n",
    "for index, value in np.ndenumerate(arr):\n",
    "    print(index, value)\n"
   ]
  },
  {
   "cell_type": "markdown",
   "metadata": {},
   "source": [
    "#### 56. Generate a generic 2D Gaussian-like array"
   ]
  },
  {
   "cell_type": "code",
   "execution_count": 17,
   "metadata": {},
   "outputs": [
    {
     "name": "stdout",
     "output_type": "stream",
     "text": [
      "[[0.36787944 0.53526143 0.60653066 0.53526143 0.36787944]\n",
      " [0.53526143 0.77880078 0.8824969  0.77880078 0.53526143]\n",
      " [0.60653066 0.8824969  1.         0.8824969  0.60653066]\n",
      " [0.53526143 0.77880078 0.8824969  0.77880078 0.53526143]\n",
      " [0.36787944 0.53526143 0.60653066 0.53526143 0.36787944]]\n"
     ]
    }
   ],
   "source": [
    "import numpy as np\n",
    "\n",
    "def gaussian_2d(shape, sigma=1.0):\n",
    "    \"\"\"\n",
    "    Generate a 2D Gaussian-like array.\n",
    "\n",
    "    Parameters:\n",
    "        shape (tuple): Shape of the array (height, width).\n",
    "        sigma (float): Standard deviation of the Gaussian function.\n",
    "\n",
    "    Returns:\n",
    "        ndarray: 2D Gaussian-like array.\n",
    "    \"\"\"\n",
    "    # Create a grid of indices centered at the middle of the array\n",
    "    x = np.linspace(-1, 1, shape[1])\n",
    "    y = np.linspace(-1, 1, shape[0])\n",
    "    xx, yy = np.meshgrid(x, y)\n",
    "    \n",
    "    # Calculate the Gaussian function\n",
    "    gaussian = np.exp(-(xx**2 + yy**2) / (2 * sigma**2))\n",
    "    \n",
    "    return gaussian\n",
    "\n",
    "# Example usage:\n",
    "shape = (5, 5)\n",
    "sigma = 1.0\n",
    "gaussian_array = gaussian_2d(shape, sigma)\n",
    "print(gaussian_array)\n"
   ]
  },
  {
   "cell_type": "markdown",
   "metadata": {},
   "source": [
    "#### 57. How to randomly place p elements in a 2D array? "
   ]
  },
  {
   "cell_type": "code",
   "execution_count": 18,
   "metadata": {},
   "outputs": [
    {
     "name": "stdout",
     "output_type": "stream",
     "text": [
      "[[0 0 0 0 0]\n",
      " [0 0 0 0 0]\n",
      " [0 0 0 0 1]\n",
      " [0 1 1 1 0]\n",
      " [0 0 0 1 0]]\n"
     ]
    }
   ],
   "source": [
    "import numpy as np\n",
    "\n",
    "def random_placement_2d_array(shape, p):\n",
    "    \"\"\"\n",
    "    Randomly place p elements in a 2D array.\n",
    "\n",
    "    Parameters:\n",
    "        shape (tuple): Shape of the 2D array (rows, columns).\n",
    "        p (int): Number of elements to randomly place.\n",
    "\n",
    "    Returns:\n",
    "        ndarray: 2D array with p elements randomly placed.\n",
    "    \"\"\"\n",
    "    # Create an empty 2D array\n",
    "    arr = np.zeros(shape, dtype=int)\n",
    "    \n",
    "    # Generate random indices\n",
    "    indices = np.random.choice(range(shape[0]*shape[1]), p, replace=False)\n",
    "    \n",
    "    # Assign random elements to those indices\n",
    "    arr.flat[indices] = 1\n",
    "    \n",
    "    return arr\n",
    "\n",
    "# Example usage:\n",
    "shape = (5, 5)\n",
    "p = 5\n",
    "random_array = random_placement_2d_array(shape, p)\n",
    "print(random_array)\n"
   ]
  },
  {
   "cell_type": "markdown",
   "metadata": {},
   "source": [
    "#### 58. Subtract the mean of each row of a matrix"
   ]
  },
  {
   "cell_type": "code",
   "execution_count": 19,
   "metadata": {},
   "outputs": [
    {
     "name": "stdout",
     "output_type": "stream",
     "text": [
      "Original Matrix:\n",
      "[[1 2 3]\n",
      " [4 5 6]\n",
      " [7 8 9]]\n",
      "\n",
      "Result Matrix after subtracting row means:\n",
      "[[-1.  0.  1.]\n",
      " [-1.  0.  1.]\n",
      " [-1.  0.  1.]]\n"
     ]
    }
   ],
   "source": [
    "import numpy as np\n",
    "\n",
    "# Example matrix\n",
    "matrix = np.array([[1, 2, 3],\n",
    "                   [4, 5, 6],\n",
    "                   [7, 8, 9]])\n",
    "\n",
    "# Calculate the mean of each row\n",
    "row_means = np.mean(matrix, axis=1, keepdims=True)\n",
    "\n",
    "# Subtract the mean of each row from the corresponding row\n",
    "result_matrix = matrix - row_means\n",
    "\n",
    "print(\"Original Matrix:\")\n",
    "print(matrix)\n",
    "print(\"\\nResult Matrix after subtracting row means:\")\n",
    "print(result_matrix)\n"
   ]
  },
  {
   "cell_type": "markdown",
   "metadata": {},
   "source": [
    "#### 59. How to sort an array by the nth column?"
   ]
  },
  {
   "cell_type": "code",
   "execution_count": 20,
   "metadata": {},
   "outputs": [
    {
     "name": "stdout",
     "output_type": "stream",
     "text": [
      "Original Array:\n",
      "[[1 4 2]\n",
      " [3 1 5]\n",
      " [6 2 4]]\n",
      "\n",
      "Sorted Array by the nth column:\n",
      "[[3 1 5]\n",
      " [6 2 4]\n",
      " [1 4 2]]\n"
     ]
    }
   ],
   "source": [
    "import numpy as np\n",
    "\n",
    "# Example array\n",
    "array = np.array([[1, 4, 2],\n",
    "                  [3, 1, 5],\n",
    "                  [6, 2, 4]])\n",
    "\n",
    "# Sort by the nth column (0-based indexing)\n",
    "n = 1\n",
    "sorted_indices = np.argsort(array[:, n])\n",
    "\n",
    "# Rearrange the rows of the array based on the sorted indices\n",
    "sorted_array = array[sorted_indices]\n",
    "\n",
    "print(\"Original Array:\")\n",
    "print(array)\n",
    "print(\"\\nSorted Array by the nth column:\")\n",
    "print(sorted_array)\n"
   ]
  },
  {
   "cell_type": "markdown",
   "metadata": {},
   "source": [
    "#### 60. How to tell if a given 2D array has null columns? "
   ]
  },
  {
   "cell_type": "code",
   "execution_count": 21,
   "metadata": {},
   "outputs": [
    {
     "name": "stdout",
     "output_type": "stream",
     "text": [
      "Array with null columns:\n",
      "[[1 0 3]\n",
      " [0 0 0]\n",
      " [4 0 6]]\n",
      "Has null columns: True\n",
      "\n",
      "Array without null columns:\n",
      "[[1 2 3]\n",
      " [4 5 6]\n",
      " [7 8 9]]\n",
      "Has null columns: False\n"
     ]
    }
   ],
   "source": [
    "import numpy as np\n",
    "\n",
    "def has_null_columns(array):\n",
    "    \"\"\"\n",
    "    Check if a given 2D array has null columns.\n",
    "\n",
    "    Parameters:\n",
    "        array (ndarray): 2D array to check.\n",
    "\n",
    "    Returns:\n",
    "        bool: True if array has null columns, False otherwise.\n",
    "    \"\"\"\n",
    "    # Check if any column has all elements equal to zero\n",
    "    return np.any(np.all(array == 0, axis=0))\n",
    "\n",
    "# Example usage:\n",
    "array_with_null_columns = np.array([[1, 0, 3],\n",
    "                                    [0, 0, 0],\n",
    "                                    [4, 0, 6]])\n",
    "\n",
    "array_without_null_columns = np.array([[1, 2, 3],\n",
    "                                       [4, 5, 6],\n",
    "                                       [7, 8, 9]])\n",
    "\n",
    "print(\"Array with null columns:\")\n",
    "print(array_with_null_columns)\n",
    "print(\"Has null columns:\", has_null_columns(array_with_null_columns))\n",
    "\n",
    "print(\"\\nArray without null columns:\")\n",
    "print(array_without_null_columns)\n",
    "print(\"Has null columns:\", has_null_columns(array_without_null_columns))\n"
   ]
  },
  {
   "cell_type": "markdown",
   "metadata": {},
   "source": [
    "#### 61. Find the nearest value from a given value in an array "
   ]
  },
  {
   "cell_type": "code",
   "execution_count": 23,
   "metadata": {},
   "outputs": [
    {
     "name": "stdout",
     "output_type": "stream",
     "text": [
      "Nearest value to 6 in the array is: 5\n"
     ]
    }
   ],
   "source": [
    "import numpy as np\n",
    "\n",
    "def find_nearest_value(array, value):\n",
    "    \"\"\"\n",
    "    Find the nearest value from a given value in an array.\n",
    "\n",
    "    Parameters:\n",
    "        array (ndarray): Input array.\n",
    "        value (float or int): The value to find the nearest value to.\n",
    "\n",
    "    Returns:\n",
    "        float or int: Nearest value from the given value in the array.\n",
    "    \"\"\"\n",
    "    # Compute absolute differences between array elements and the given value\n",
    "    absolute_diff = np.abs(array - value)\n",
    "    \n",
    "    # Find the index of the minimum difference\n",
    "    nearest_index = np.argmin(absolute_diff)\n",
    "    \n",
    "    return array[nearest_index]\n",
    "\n",
    "# Example usage:\n",
    "array = np.array([1, 3, 5, 7, 9])\n",
    "value = 6\n",
    "nearest_value = find_nearest_value(array, value)\n",
    "print(\"Nearest value to\", value, \"in the array is:\", nearest_value)\n"
   ]
  },
  {
   "cell_type": "markdown",
   "metadata": {},
   "source": [
    "#### 62. Considering two arrays with shape (1,3) and (3,1), how to compute their sum using an iterator? "
   ]
  },
  {
   "cell_type": "code",
   "execution_count": 25,
   "metadata": {},
   "outputs": [
    {
     "name": "stdout",
     "output_type": "stream",
     "text": [
      "Sum of the arrays: 21\n"
     ]
    }
   ],
   "source": [
    "import numpy as np\n",
    "\n",
    "# Define two arrays with shapes (1, 3) and (3, 1)\n",
    "array1 = np.array([[1, 2, 3]])\n",
    "array2 = np.array([[4], [5], [6]])\n",
    "\n",
    "# Initialize the sum\n",
    "total_sum = 0\n",
    "\n",
    "# Create iterators for both arrays\n",
    "iter1 = np.nditer(array1)\n",
    "iter2 = np.nditer(array2)\n",
    "\n",
    "# Iterate over both arrays simultaneously and compute the sum\n",
    "for elem1, elem2 in zip(iter1, iter2):\n",
    "    total_sum += elem1 + elem2\n",
    "\n",
    "print(\"Sum of the arrays:\", total_sum)\n"
   ]
  },
  {
   "cell_type": "markdown",
   "metadata": {},
   "source": [
    "#### 63. Create an array class that has a name attribute"
   ]
  },
  {
   "cell_type": "code",
   "execution_count": 24,
   "metadata": {},
   "outputs": [
    {
     "name": "stdout",
     "output_type": "stream",
     "text": [
      "MyArray: [1, 2, 3, 4]\n",
      "MyArray: [1, 2, 3, 4, 5]\n",
      "3\n",
      "MyArray: [1, 2, 10, 4, 5]\n",
      "5\n"
     ]
    }
   ],
   "source": [
    "class NamedArray:\n",
    "    def __init__(self, name, *args):\n",
    "        self.name = name\n",
    "        self.array = list(args)\n",
    "\n",
    "    def __repr__(self):\n",
    "        return f'{self.name}: {self.array}'\n",
    "\n",
    "    def append(self, value):\n",
    "        self.array.append(value)\n",
    "\n",
    "    def pop(self):\n",
    "        return self.array.pop()\n",
    "\n",
    "    def __getitem__(self, index):\n",
    "        return self.array[index]\n",
    "\n",
    "    def __setitem__(self, index, value):\n",
    "        self.array[index] = value\n",
    "\n",
    "    def __len__(self):\n",
    "        return len(self.array)\n",
    "\n",
    "# Example usage:\n",
    "arr = NamedArray(\"MyArray\", 1, 2, 3, 4)\n",
    "print(arr)  \n",
    "\n",
    "arr.append(5)\n",
    "print(arr)  \n",
    "\n",
    "print(arr[2]) \n",
    "\n",
    "arr[2] = 10\n",
    "print(arr) \n",
    "\n",
    "print(len(arr))  \n"
   ]
  },
  {
   "cell_type": "markdown",
   "metadata": {},
   "source": [
    "#### 64. Consider a given vector, how to add 1 to each element indexed by a second vector (be careful with repeated indices)? "
   ]
  },
  {
   "cell_type": "code",
   "execution_count": 26,
   "metadata": {},
   "outputs": [
    {
     "name": "stdout",
     "output_type": "stream",
     "text": [
      "Original vector: [1 2 3 4 5]\n",
      "Indices vector: [0 1 3 1 4 3]\n",
      "Result vector: [2 3 3 5 6]\n"
     ]
    }
   ],
   "source": [
    "import numpy as np\n",
    "\n",
    "# Given vector\n",
    "given_vector = np.array([1, 2, 3, 4, 5])\n",
    "\n",
    "# Second vector representing indices\n",
    "indices_vector = np.array([0, 1, 3, 1, 4, 3])\n",
    "\n",
    "# Find unique indices to avoid repeated addition\n",
    "unique_indices = np.unique(indices_vector)\n",
    "\n",
    "# Create a new vector to store the result\n",
    "result_vector = given_vector.copy()\n",
    "\n",
    "# Add 1 to elements indexed by unique indices\n",
    "result_vector[unique_indices] += 1\n",
    "\n",
    "print(\"Original vector:\", given_vector)\n",
    "print(\"Indices vector:\", indices_vector)\n",
    "print(\"Result vector:\", result_vector)\n"
   ]
  },
  {
   "cell_type": "markdown",
   "metadata": {},
   "source": [
    "#### 65. How to accumulate elements of a vector (X) to an array (F) based on an index list (I)? "
   ]
  },
  {
   "cell_type": "code",
   "execution_count": 37,
   "metadata": {},
   "outputs": [
    {
     "name": "stdout",
     "output_type": "stream",
     "text": [
      "X: [1 2 3 4 5]\n",
      "I: [0 1 3 1 4 3]\n",
      "F: [1 2 0 2 1]\n"
     ]
    }
   ],
   "source": [
    "import numpy as np\n",
    "\n",
    "# Example vectors\n",
    "X = np.array([1, 2, 3, 4, 5])\n",
    "I = np.array([0, 1, 3, 1, 4, 3])\n",
    "\n",
    "# Find the maximum index in I\n",
    "max_index = I.max()\n",
    "\n",
    "# Create array F initialized with zeros\n",
    "F = np.zeros(max_index + 1, dtype=int)\n",
    "\n",
    "# Use I as index array to accumulate elements of X into F\n",
    "np.add.at(F, I, 1)\n",
    "\n",
    "print(\"X:\", X)\n",
    "print(\"I:\", I)\n",
    "print(\"F:\", F)\n"
   ]
  },
  {
   "cell_type": "markdown",
   "metadata": {},
   "source": [
    "#### 66. Considering a (w,h,3) image of (dtype=ubyte), compute the number of unique colors "
   ]
  },
  {
   "cell_type": "code",
   "execution_count": 30,
   "metadata": {},
   "outputs": [
    {
     "name": "stdout",
     "output_type": "stream",
     "text": [
      "Number of unique colors: 9999\n"
     ]
    }
   ],
   "source": [
    "import numpy as np\n",
    "\n",
    "# Example image data (replace this with your image data)\n",
    "image = np.random.randint(0, 256, size=(100, 100, 3), dtype=np.uint8)\n",
    "\n",
    "# Reshape the image to a 2D array where each row represents a pixel\n",
    "reshaped_image = image.reshape(-1, 3)\n",
    "\n",
    "# Convert the reshaped image to a list of tuples for easier comparison\n",
    "unique_colors = list(map(tuple, reshaped_image))\n",
    "\n",
    "# Find unique colors\n",
    "unique_colors = np.unique(unique_colors, axis=0)\n",
    "\n",
    "# Count the number of unique colors\n",
    "num_unique_colors = unique_colors.shape[0]\n",
    "\n",
    "print(\"Number of unique colors:\", num_unique_colors)\n"
   ]
  },
  {
   "cell_type": "markdown",
   "metadata": {},
   "source": [
    "#### 67. Considering a four dimensions array, how to get sum over the last two axis at once?"
   ]
  },
  {
   "cell_type": "code",
   "execution_count": 38,
   "metadata": {},
   "outputs": [
    {
     "name": "stdout",
     "output_type": "stream",
     "text": [
      "Original array shape: (3, 4, 5, 6)\n",
      "Sum over the last two axes shape: (3, 4)\n",
      "Sum over the last two axes:\n",
      "[[132 133 150 128]\n",
      " [114 125 159 134]\n",
      " [153 147 137 144]]\n"
     ]
    }
   ],
   "source": [
    "import numpy as np\n",
    "\n",
    "# Example four-dimensional array\n",
    "arr = np.random.randint(0, 10, size=(3, 4, 5, 6))\n",
    "\n",
    "# Get the sum over the last two axes\n",
    "sum_last_two_axes = np.sum(arr, axis=(-2, -1))\n",
    "\n",
    "print(\"Original array shape:\", arr.shape)\n",
    "print(\"Sum over the last two axes shape:\", sum_last_two_axes.shape)\n",
    "print(\"Sum over the last two axes:\")\n",
    "print(sum_last_two_axes)\n"
   ]
  },
  {
   "cell_type": "markdown",
   "metadata": {},
   "source": [
    "#### 68. Considering a one-dimensional vector D, how to compute means of subsets of D using a vector S of same size describing subset indices?"
   ]
  },
  {
   "cell_type": "code",
   "execution_count": 39,
   "metadata": {},
   "outputs": [
    {
     "name": "stdout",
     "output_type": "stream",
     "text": [
      "Vector D: [1 2 3 4 5 6]\n",
      "Subset indices vector S: [0 0 1 1 2 2]\n",
      "Means of subsets: [1.5 3.5 5.5]\n"
     ]
    }
   ],
   "source": [
    "import numpy as np\n",
    "\n",
    "# Example one-dimensional vector D and subset indices vector S\n",
    "D = np.array([1, 2, 3, 4, 5, 6])\n",
    "S = np.array([0, 0, 1, 1, 2, 2])\n",
    "\n",
    "# Find unique subset indices and their counts\n",
    "unique_indices, counts = np.unique(S, return_counts=True)\n",
    "\n",
    "# Compute the means of subsets\n",
    "subset_means = np.zeros_like(unique_indices, dtype=float)\n",
    "for i, idx in enumerate(unique_indices):\n",
    "    subset = D[S == idx]\n",
    "    subset_means[i] = np.mean(subset)\n",
    "\n",
    "print(\"Vector D:\", D)\n",
    "print(\"Subset indices vector S:\", S)\n",
    "print(\"Means of subsets:\", subset_means)\n"
   ]
  },
  {
   "cell_type": "markdown",
   "metadata": {},
   "source": [
    "#### 69. How to get the diagonal of a dot product? "
   ]
  },
  {
   "cell_type": "code",
   "execution_count": 41,
   "metadata": {},
   "outputs": [
    {
     "name": "stdout",
     "output_type": "stream",
     "text": [
      "Dot product of A and B:\n",
      "[[ 30  24  18]\n",
      " [ 84  69  54]\n",
      " [138 114  90]]\n",
      "\n",
      "Diagonal of the dot product:\n",
      "[30 69 90]\n"
     ]
    }
   ],
   "source": [
    "import numpy as np\n",
    "\n",
    "# Example matrices A and B\n",
    "A = np.array([[1, 2, 3],\n",
    "              [4, 5, 6],\n",
    "              [7, 8, 9]])\n",
    "\n",
    "B = np.array([[9, 8, 7],\n",
    "              [6, 5, 4],\n",
    "              [3, 2, 1]])\n",
    "\n",
    "# Compute the dot product of A and B\n",
    "dot_product = np.dot(A, B)\n",
    "\n",
    "# Get the diagonal of the dot product\n",
    "diagonal = np.diag(dot_product)\n",
    "\n",
    "print(\"Dot product of A and B:\")\n",
    "print(dot_product)\n",
    "\n",
    "print(\"\\nDiagonal of the dot product:\")\n",
    "print(diagonal)\n"
   ]
  },
  {
   "cell_type": "markdown",
   "metadata": {},
   "source": [
    "#### 70. Consider the vector [1, 2, 3, 4, 5], how to build a new vector with 3 consecutive zeros interleaved between each value? "
   ]
  },
  {
   "cell_type": "code",
   "execution_count": 42,
   "metadata": {},
   "outputs": [
    {
     "name": "stdout",
     "output_type": "stream",
     "text": [
      "Original vector: [1 2 3 4 5]\n",
      "New vector with 3 consecutive zeros interleaved: [1 0 0 0 2 0 0 0 3 0 0 0 4 0 0 0 5]\n"
     ]
    }
   ],
   "source": [
    "import numpy as np\n",
    "\n",
    "# Original vector\n",
    "original_vector = np.array([1, 2, 3, 4, 5])\n",
    "\n",
    "# Number of consecutive zeros to insert between each value\n",
    "num_zeros = 3\n",
    "\n",
    "# Calculate the length of the new vector\n",
    "new_length = len(original_vector) + (len(original_vector) - 1) * num_zeros\n",
    "\n",
    "# Initialize the new vector with zeros\n",
    "new_vector = np.zeros(new_length, dtype=original_vector.dtype)\n",
    "\n",
    "# Assign values from the original vector to the interleaved positions\n",
    "new_vector[::num_zeros+1] = original_vector\n",
    "\n",
    "print(\"Original vector:\", original_vector)\n",
    "print(\"New vector with 3 consecutive zeros interleaved:\", new_vector)\n"
   ]
  },
  {
   "cell_type": "markdown",
   "metadata": {},
   "source": [
    "#### 71. Consider an array of dimension (5,5,3), how to mulitply it by an array with dimensions (5,5)?"
   ]
  },
  {
   "cell_type": "code",
   "execution_count": 43,
   "metadata": {},
   "outputs": [
    {
     "name": "stdout",
     "output_type": "stream",
     "text": [
      "Array with dimensions (5, 5, 3):\n",
      "[[[5 8 1]\n",
      "  [6 5 7]\n",
      "  [6 3 4]\n",
      "  [5 1 6]\n",
      "  [4 9 7]]\n",
      "\n",
      " [[3 5 2]\n",
      "  [9 8 5]\n",
      "  [2 9 4]\n",
      "  [7 1 8]\n",
      "  [4 8 8]]\n",
      "\n",
      " [[5 9 6]\n",
      "  [5 4 7]\n",
      "  [4 7 6]\n",
      "  [6 2 1]\n",
      "  [2 3 3]]\n",
      "\n",
      " [[8 7 6]\n",
      "  [6 1 3]\n",
      "  [5 8 5]\n",
      "  [4 9 5]\n",
      "  [7 6 3]]\n",
      "\n",
      " [[4 8 1]\n",
      "  [7 7 4]\n",
      "  [3 7 3]\n",
      "  [7 9 3]\n",
      "  [7 4 4]]]\n",
      "\n",
      "Array with dimensions (5, 5):\n",
      "[[4 4 8 4 7]\n",
      " [8 1 8 6 8]\n",
      " [5 6 4 5 7]\n",
      " [3 6 8 9 4]\n",
      " [6 1 3 9 7]]\n",
      "\n",
      "Result of multiplication:\n",
      "[[[20 32  4]\n",
      "  [24 20 28]\n",
      "  [48 24 32]\n",
      "  [20  4 24]\n",
      "  [28 63 49]]\n",
      "\n",
      " [[24 40 16]\n",
      "  [ 9  8  5]\n",
      "  [16 72 32]\n",
      "  [42  6 48]\n",
      "  [32 64 64]]\n",
      "\n",
      " [[25 45 30]\n",
      "  [30 24 42]\n",
      "  [16 28 24]\n",
      "  [30 10  5]\n",
      "  [14 21 21]]\n",
      "\n",
      " [[24 21 18]\n",
      "  [36  6 18]\n",
      "  [40 64 40]\n",
      "  [36 81 45]\n",
      "  [28 24 12]]\n",
      "\n",
      " [[24 48  6]\n",
      "  [ 7  7  4]\n",
      "  [ 9 21  9]\n",
      "  [63 81 27]\n",
      "  [49 28 28]]]\n"
     ]
    }
   ],
   "source": [
    "import numpy as np\n",
    "\n",
    "# Create arrays\n",
    "array_3d = np.random.randint(1, 10, size=(5, 5, 3))\n",
    "array_2d = np.random.randint(1, 10, size=(5, 5))\n",
    "\n",
    "# Perform element-wise multiplication\n",
    "result = array_3d * array_2d[:, :, None]\n",
    "\n",
    "print(\"Array with dimensions (5, 5, 3):\")\n",
    "print(array_3d)\n",
    "print(\"\\nArray with dimensions (5, 5):\")\n",
    "print(array_2d)\n",
    "print(\"\\nResult of multiplication:\")\n",
    "print(result)\n"
   ]
  },
  {
   "cell_type": "markdown",
   "metadata": {},
   "source": [
    "#### 72. How to swap two rows of an array? "
   ]
  },
  {
   "cell_type": "code",
   "execution_count": 44,
   "metadata": {},
   "outputs": [
    {
     "name": "stdout",
     "output_type": "stream",
     "text": [
      "Array after swapping rows:\n",
      "[[7 8 9]\n",
      " [4 5 6]\n",
      " [1 2 3]]\n"
     ]
    }
   ],
   "source": [
    "import numpy as np\n",
    "\n",
    "# Create an example array\n",
    "array = np.array([[1, 2, 3],\n",
    "                  [4, 5, 6],\n",
    "                  [7, 8, 9]])\n",
    "\n",
    "# Rows to swap\n",
    "row1_index = 0\n",
    "row2_index = 2\n",
    "\n",
    "# Swap rows\n",
    "temp_row = np.copy(array[row1_index])\n",
    "array[row1_index] = array[row2_index]\n",
    "array[row2_index] = temp_row\n",
    "\n",
    "print(\"Array after swapping rows:\")\n",
    "print(array)\n"
   ]
  },
  {
   "cell_type": "markdown",
   "metadata": {},
   "source": [
    "#### 73. Consider a set of 10 triplets describing 10 triangles (with shared vertices), find the set of unique line segments composing all the triangles"
   ]
  },
  {
   "cell_type": "code",
   "execution_count": 47,
   "metadata": {},
   "outputs": [
    {
     "name": "stdout",
     "output_type": "stream",
     "text": [
      "Unique line segments composing all the triangles:\n",
      "((1, 0), (0, 1))\n",
      "((3, 0), (2, 1))\n",
      "((5, 0), (4, 1))\n",
      "((3, 1), (4, 0))\n",
      "((1, 1), (2, 1))\n",
      "((5, 0), (5, 1))\n",
      "((1, 0), (2, 0))\n",
      "((3, 1), (4, 1))\n",
      "((4, 0), (3, 1))\n",
      "((0, 0), (1, 0))\n",
      "((2, 1), (3, 0))\n",
      "((3, 0), (3, 1))\n",
      "((0, 1), (1, 0))\n",
      "((4, 0), (5, 0))\n",
      "((2, 1), (3, 1))\n",
      "((2, 0), (2, 1))\n",
      "((2, 0), (1, 1))\n",
      "((0, 1), (1, 1))\n",
      "((4, 1), (5, 0))\n",
      "((1, 0), (1, 1))\n",
      "((1, 1), (2, 0))\n",
      "((0, 0), (0, 1))\n",
      "((4, 1), (5, 1))\n",
      "((2, 0), (3, 0))\n",
      "((4, 0), (4, 1))\n",
      "((3, 0), (4, 0))\n"
     ]
    }
   ],
   "source": [
    "# Example set of 10 triplets describing triangles\n",
    "triangles = [\n",
    "    [(0, 0), (1, 0), (0, 1)],\n",
    "    [(0, 1), (1, 0), (1, 1)],\n",
    "    [(1, 0), (2, 0), (1, 1)],\n",
    "    [(1, 1), (2, 0), (2, 1)],\n",
    "    [(2, 0), (3, 0), (2, 1)],\n",
    "    [(2, 1), (3, 0), (3, 1)],\n",
    "    [(3, 0), (4, 0), (3, 1)],\n",
    "    [(3, 1), (4, 0), (4, 1)],\n",
    "    [(4, 0), (5, 0), (4, 1)],\n",
    "    [(4, 1), (5, 0), (5, 1)]\n",
    "]\n",
    "\n",
    "# Set to store unique line segments\n",
    "unique_segments = set()\n",
    "\n",
    "# Iterate over each triangle\n",
    "for triangle in triangles:\n",
    "    # Extract line segments from the triangle\n",
    "    segments = [(triangle[i], triangle[j]) for i in range(3) for j in range(i+1, 3)]\n",
    "    # Add line segments to the set\n",
    "    unique_segments.update(segments)\n",
    "\n",
    "print(\"Unique line segments composing all the triangles:\")\n",
    "for segment in unique_segments:\n",
    "    print(segment)\n"
   ]
  },
  {
   "cell_type": "markdown",
   "metadata": {},
   "source": [
    "#### 74. Given a sorted array C that corresponds to a bincount, how to produce an array A such that np.bincount(A) == C?"
   ]
  },
  {
   "cell_type": "code",
   "execution_count": 46,
   "metadata": {},
   "outputs": [
    {
     "name": "stdout",
     "output_type": "stream",
     "text": [
      "Array C (bincount): [1 2 0 2 1 0 0 1 0 1]\n",
      "Reconstructed array A: [0 1 1 3 3 4 7 9]\n",
      "Result of bincount on A: [1 2 0 2 1 0 0 1 0 1]\n",
      "Are the bincounts equal? True\n"
     ]
    }
   ],
   "source": [
    "import numpy as np\n",
    "\n",
    "def reconstruct_array_from_bincount(C):\n",
    "    # Generate the output array A\n",
    "    A = np.repeat(np.arange(len(C)), C)\n",
    "    \n",
    "    return A\n",
    "\n",
    "# Example sorted array C\n",
    "C = np.array([1, 2, 0, 2, 1, 0, 0, 1, 0, 1])\n",
    "\n",
    "# Reconstruct array A\n",
    "A = reconstruct_array_from_bincount(C)\n",
    "\n",
    "print(\"Array C (bincount):\", C)\n",
    "print(\"Reconstructed array A:\", A)\n",
    "print(\"Result of bincount on A:\", np.bincount(A))\n",
    "print(\"Are the bincounts equal?\", np.array_equal(np.bincount(A), C))\n"
   ]
  },
  {
   "cell_type": "markdown",
   "metadata": {},
   "source": [
    "#### 75. How to compute averages using a sliding window over an array? "
   ]
  },
  {
   "cell_type": "code",
   "execution_count": 48,
   "metadata": {},
   "outputs": [
    {
     "name": "stdout",
     "output_type": "stream",
     "text": [
      "Original array: [ 1  2  3  4  5  6  7  8  9 10]\n",
      "Sliding window averages with window size 3 : [2. 3. 4. 5. 6. 7. 8. 9.]\n"
     ]
    }
   ],
   "source": [
    "import numpy as np\n",
    "\n",
    "def sliding_window_average(arr, window_size):\n",
    "    # Create a 1D array of ones with the size of the window\n",
    "    window = np.ones(window_size)\n",
    "    # Compute the sum of elements in the sliding window using convolution\n",
    "    window_sum = np.convolve(arr, window, mode='valid')\n",
    "    # Compute the number of elements in each sliding window\n",
    "    counts = np.convolve(np.ones_like(arr), window, mode='valid')\n",
    "    # Compute the averages\n",
    "    averages = window_sum / counts\n",
    "    return averages\n",
    "\n",
    "# Example array\n",
    "arr = np.array([1, 2, 3, 4, 5, 6, 7, 8, 9, 10])\n",
    "\n",
    "# Sliding window size\n",
    "window_size = 3\n",
    "\n",
    "# Compute sliding window averages\n",
    "averages = sliding_window_average(arr, window_size)\n",
    "\n",
    "print(\"Original array:\", arr)\n",
    "print(\"Sliding window averages with window size\", window_size, \":\", averages)\n"
   ]
  },
  {
   "cell_type": "markdown",
   "metadata": {},
   "source": [
    "#### 76. Consider a one-dimensional array Z, build a two-dimensional array whose first row is (Z[0],Z[1],Z[2]) and each subsequent row is shifted by 1 (last row should be (Z[-3],Z[-2],Z[-1]) "
   ]
  },
  {
   "cell_type": "code",
   "execution_count": 50,
   "metadata": {},
   "outputs": [
    {
     "name": "stdout",
     "output_type": "stream",
     "text": [
      "Original array Z: [1 2 3 4 5 6 7 8 9]\n",
      "Two-dimensional array:\n",
      "[[1 2 3 4 5 6 7]\n",
      " [0 1 2 3 4 5 6]\n",
      " [0 0 1 2 3 4 5]\n",
      " [0 0 0 1 2 3 4]\n",
      " [0 0 0 0 1 2 3]\n",
      " [0 0 0 0 0 1 2]\n",
      " [0 0 0 0 0 0 1]]\n"
     ]
    }
   ],
   "source": [
    "import numpy as np\n",
    "\n",
    "def shift_array(arr, num_shifts):\n",
    "    \"\"\"\n",
    "    Shifts the elements of the array to the right by num_shifts positions.\n",
    "    \"\"\"\n",
    "    shifted = np.zeros_like(arr)\n",
    "    shifted[num_shifts:] = arr[:-num_shifts]\n",
    "    return shifted\n",
    "\n",
    "def build_two_dimensional_array(Z, num_rows):\n",
    "    \"\"\"\n",
    "    Builds a two-dimensional array where each row is shifted by 1 from the previous row.\n",
    "    \"\"\"\n",
    "    # Create an empty 2D array\n",
    "    result = np.zeros((num_rows, len(Z) - 2), dtype=Z.dtype)\n",
    "    \n",
    "    # Fill the first row with the original array\n",
    "    result[0] = Z[:len(Z) - 2]\n",
    "    \n",
    "    # Shift subsequent rows\n",
    "    for i in range(1, num_rows):\n",
    "        result[i] = shift_array(result[i - 1], 1)\n",
    "    \n",
    "    return result\n",
    "\n",
    "# Example one-dimensional array\n",
    "Z = np.array([1, 2, 3, 4, 5, 6, 7, 8, 9])\n",
    "\n",
    "# Number of rows in the two-dimensional array\n",
    "num_rows = len(Z) - 2\n",
    "\n",
    "# Build the two-dimensional array\n",
    "result = build_two_dimensional_array(Z, num_rows)\n",
    "\n",
    "print(\"Original array Z:\", Z)\n",
    "print(\"Two-dimensional array:\")\n",
    "print(result)\n"
   ]
  },
  {
   "cell_type": "markdown",
   "metadata": {},
   "source": [
    "#### 77. How to negate a boolean, or to change the sign of a float inplace? "
   ]
  },
  {
   "cell_type": "code",
   "execution_count": 51,
   "metadata": {},
   "outputs": [
    {
     "name": "stdout",
     "output_type": "stream",
     "text": [
      "Negated boolean: False\n"
     ]
    }
   ],
   "source": [
    "# Original boolean value\n",
    "boolean_value = True\n",
    "\n",
    "# Negate the boolean in-place\n",
    "boolean_value ^= True  # Equivalent to boolean_value = not boolean_value\n",
    "\n",
    "print(\"Negated boolean:\", boolean_value)\n"
   ]
  },
  {
   "cell_type": "markdown",
   "metadata": {},
   "source": [
    "#### 78. Consider 2 sets of points P0,P1 describing lines (2d) and a point p, how to compute distance from p to each line i (P0[i],P1[i])?"
   ]
  },
  {
   "cell_type": "code",
   "execution_count": 52,
   "metadata": {},
   "outputs": [
    {
     "name": "stdout",
     "output_type": "stream",
     "text": [
      "Distances to each line segment: [0.20000000000000018, 1.3867504905630728, 1.671258043593467]\n"
     ]
    }
   ],
   "source": [
    "import numpy as np\n",
    "\n",
    "def distance_to_line_segment(P0, P1, p):\n",
    "    # Vector from P0 to P1\n",
    "    v = P1 - P0\n",
    "    # Vector from P0 to p\n",
    "    w = p - P0\n",
    "    \n",
    "    # Dot product of v and w\n",
    "    vw_dot = np.dot(v, w)\n",
    "    # Dot product of v and v\n",
    "    vv_dot = np.dot(v, v)\n",
    "    \n",
    "    # Compute the parameter t\n",
    "    t = np.clip(vw_dot / vv_dot, 0, 1)\n",
    "    \n",
    "    # Closest point on the line segment to the point p\n",
    "    closest_point = P0 + t * v\n",
    "    \n",
    "    # Distance between p and the closest point\n",
    "    distance = np.linalg.norm(p - closest_point)\n",
    "    \n",
    "    return distance\n",
    "\n",
    "# Example sets of points\n",
    "P0 = np.array([[1, 1], [2, 3], [4, 2]])\n",
    "P1 = np.array([[4, 5], [5, 1], [6, 7]])\n",
    "p = np.array([3, 4])\n",
    "\n",
    "# Compute distance from p to each line segment\n",
    "distances = [distance_to_line_segment(P0[i], P1[i], p) for i in range(len(P0))]\n",
    "\n",
    "print(\"Distances to each line segment:\", distances)\n"
   ]
  },
  {
   "cell_type": "markdown",
   "metadata": {},
   "source": [
    "#### 79. Consider 2 sets of points P0,P1 describing lines (2d) and a set of points P, how to compute distance from each point j (P[j]) to each line i (P0[i],P1[i])? "
   ]
  },
  {
   "cell_type": "code",
   "execution_count": 53,
   "metadata": {},
   "outputs": [
    {
     "name": "stdout",
     "output_type": "stream",
     "text": [
      "Distances from each point in P to each line segment:\n",
      "[[0.2        1.39312598 1.68807583]\n",
      " [1.30769231 0.83205029 2.        ]\n",
      " [1.41421356 4.18550241 0.55708601]]\n"
     ]
    }
   ],
   "source": [
    "import numpy as np\n",
    "\n",
    "def distance_to_line_segment(P0, P1, P):\n",
    "    # Vector from P0 to P1\n",
    "    v = P1 - P0\n",
    "    # Vector from P0 to each point in P\n",
    "    w = P[:, None] - P0\n",
    "    \n",
    "    # Dot product of v and w\n",
    "    vw_dot = np.sum(v * w, axis=2)\n",
    "    # Dot product of v and v\n",
    "    vv_dot = np.sum(v * v, axis=1)\n",
    "    \n",
    "    # Compute the parameter t\n",
    "    t = np.clip(vw_dot / vv_dot[:, None], 0, 1)\n",
    "    \n",
    "    # Closest point on the line segment to each point in P\n",
    "    closest_point = P0[None, ...] + t[..., None] * v[None, ...]\n",
    "    \n",
    "    # Distance between each point in P and the closest point on the line segment\n",
    "    distances = np.linalg.norm(P[:, None] - closest_point, axis=2)\n",
    "    \n",
    "    return distances\n",
    "\n",
    "# Example sets of points\n",
    "P0 = np.array([[1, 1], [2, 3], [4, 2]])\n",
    "P1 = np.array([[4, 5], [5, 1], [6, 7]])\n",
    "P = np.array([[3, 4], [2, 2], [5, 6]])\n",
    "\n",
    "# Compute distance from each point in P to each line segment\n",
    "distances = distance_to_line_segment(P0, P1, P)\n",
    "\n",
    "print(\"Distances from each point in P to each line segment:\")\n",
    "print(distances)\n"
   ]
  },
  {
   "cell_type": "markdown",
   "metadata": {},
   "source": [
    "#### 80. Consider an arbitrary array, write a function that extract a subpart with a fixed shape and centered on a given element (pad with a fill value when necessary) "
   ]
  },
  {
   "cell_type": "code",
   "execution_count": 54,
   "metadata": {},
   "outputs": [
    {
     "name": "stdout",
     "output_type": "stream",
     "text": [
      "Original array:\n",
      "[[1 2 3]\n",
      " [4 5 6]\n",
      " [7 8 9]]\n",
      "\n",
      "Extracted subpart with padding:\n",
      "[[1 2]\n",
      " [4 5]]\n"
     ]
    }
   ],
   "source": [
    "import numpy as np\n",
    "\n",
    "def extract_subpart(arr, center, shape, fill_value=0):\n",
    "    # Calculate the start and end indices for each dimension\n",
    "    start_indices = np.maximum(center - np.array(shape) // 2, 0)\n",
    "    end_indices = start_indices + np.array(shape)\n",
    "    \n",
    "    # Calculate the slice for each dimension\n",
    "    slices = tuple(slice(start, end) for start, end in zip(start_indices, end_indices))\n",
    "    \n",
    "    # Extract the subpart\n",
    "    subpart = arr[slices]\n",
    "    \n",
    "    # Calculate the amount of padding needed\n",
    "    padding_before = np.maximum(np.array(shape) // 2 - center, 0)\n",
    "    padding_after = np.maximum(center + (np.array(shape) - np.array(arr.shape)) // 2, 0)\n",
    "    \n",
    "    # Pad the subpart if necessary\n",
    "    padded_subpart = np.pad(subpart, [(pad_before, pad_after) for pad_before, pad_after in zip(padding_before, padding_after)], mode='constant', constant_values=fill_value)\n",
    "    \n",
    "    return padded_subpart\n",
    "\n",
    "# Example arbitrary array\n",
    "arr = np.array([[1, 2, 3],\n",
    "                [4, 5, 6],\n",
    "                [7, 8, 9]])\n",
    "\n",
    "# Center element\n",
    "center = (1, 1)\n",
    "\n",
    "# Shape of the subpart\n",
    "shape = (2, 2)\n",
    "\n",
    "# Extract subpart with padding\n",
    "subpart = extract_subpart(arr, center, shape)\n",
    "\n",
    "print(\"Original array:\")\n",
    "print(arr)\n",
    "print(\"\\nExtracted subpart with padding:\")\n",
    "print(subpart)\n"
   ]
  },
  {
   "cell_type": "markdown",
   "metadata": {},
   "source": [
    "#### 81. Consider an array Z = [1,2,3,4,5,6,7,8,9,10,11,12,13,14], how to generate an array R = [[1,2,3,4], [2,3,4,5], [3,4,5,6], ..., [11,12,13,14]]? "
   ]
  },
  {
   "cell_type": "code",
   "execution_count": 55,
   "metadata": {},
   "outputs": [
    {
     "name": "stdout",
     "output_type": "stream",
     "text": [
      "Array R:\n",
      "[[ 1  2  3  4]\n",
      " [ 2  3  4  5]\n",
      " [ 3  4  5  6]\n",
      " [ 4  5  6  7]\n",
      " [ 5  6  7  8]\n",
      " [ 6  7  8  9]\n",
      " [ 7  8  9 10]\n",
      " [ 8  9 10 11]\n",
      " [ 9 10 11 12]\n",
      " [10 11 12 13]\n",
      " [11 12 13 14]]\n"
     ]
    }
   ],
   "source": [
    "import numpy as np\n",
    "\n",
    "# Given array Z\n",
    "Z = np.array([1, 2, 3, 4, 5, 6, 7, 8, 9, 10, 11, 12, 13, 14])\n",
    "\n",
    "# Define the window size\n",
    "window_size = 4\n",
    "\n",
    "# Calculate the number of subarrays\n",
    "num_subarrays = len(Z) - window_size + 1\n",
    "\n",
    "# Generate the array R using list comprehension and array slicing\n",
    "R = np.array([Z[i:i+window_size] for i in range(num_subarrays)])\n",
    "\n",
    "print(\"Array R:\")\n",
    "print(R)\n"
   ]
  },
  {
   "cell_type": "markdown",
   "metadata": {},
   "source": [
    "#### 82. Compute a matrix rank "
   ]
  },
  {
   "cell_type": "code",
   "execution_count": 56,
   "metadata": {},
   "outputs": [
    {
     "name": "stdout",
     "output_type": "stream",
     "text": [
      "Matrix:\n",
      "[[1 2 3]\n",
      " [4 5 6]\n",
      " [7 8 9]]\n",
      "\n",
      "Rank of the matrix: 2\n"
     ]
    }
   ],
   "source": [
    "import numpy as np\n",
    "\n",
    "# Example matrix\n",
    "matrix = np.array([[1, 2, 3],\n",
    "                   [4, 5, 6],\n",
    "                   [7, 8, 9]])\n",
    "\n",
    "# Compute the rank of the matrix\n",
    "rank = np.linalg.matrix_rank(matrix)\n",
    "\n",
    "print(\"Matrix:\")\n",
    "print(matrix)\n",
    "print(\"\\nRank of the matrix:\", rank)\n"
   ]
  },
  {
   "cell_type": "markdown",
   "metadata": {},
   "source": [
    "#### 83. How to find the most frequent value in an array?"
   ]
  },
  {
   "cell_type": "code",
   "execution_count": 57,
   "metadata": {},
   "outputs": [
    {
     "name": "stdout",
     "output_type": "stream",
     "text": [
      "Array: [1 2 3 2 2 3 4 5 4 4 4]\n",
      "Most frequent value: 4\n"
     ]
    }
   ],
   "source": [
    "import numpy as np\n",
    "\n",
    "# Example array\n",
    "arr = np.array([1, 2, 3, 2, 2, 3, 4, 5, 4, 4, 4])\n",
    "\n",
    "# Find the counts of each unique value in the array\n",
    "counts = np.bincount(arr)\n",
    "\n",
    "# Find the index of the most frequent value\n",
    "most_frequent_value = np.argmax(counts)\n",
    "\n",
    "print(\"Array:\", arr)\n",
    "print(\"Most frequent value:\", most_frequent_value)\n"
   ]
  },
  {
   "cell_type": "markdown",
   "metadata": {},
   "source": [
    "#### 84. Extract all the contiguous 3x3 blocks from a random 10x10 matrix"
   ]
  },
  {
   "cell_type": "code",
   "execution_count": 58,
   "metadata": {},
   "outputs": [
    {
     "name": "stdout",
     "output_type": "stream",
     "text": [
      "Random 10x10 matrix:\n",
      "[[1 0 7 0 6 2 8 9 2 8]\n",
      " [1 3 7 6 0 4 6 3 5 0]\n",
      " [8 3 6 0 6 2 4 1 0 6]\n",
      " [1 3 9 0 1 1 3 0 1 2]\n",
      " [8 4 8 3 4 6 1 0 5 8]\n",
      " [1 7 4 6 9 2 6 6 5 4]\n",
      " [4 9 4 9 1 2 6 2 6 9]\n",
      " [9 4 0 3 8 5 7 0 2 4]\n",
      " [8 3 7 4 3 6 5 4 0 8]\n",
      " [1 6 7 7 3 8 6 0 9 1]]\n",
      "\n",
      "Extracted 3x3 blocks:\n",
      "[[1 0 7]\n",
      " [1 3 7]\n",
      " [8 3 6]]\n",
      "\n",
      "[[0 7 0]\n",
      " [3 7 6]\n",
      " [3 6 0]]\n",
      "\n",
      "[[7 0 6]\n",
      " [7 6 0]\n",
      " [6 0 6]]\n",
      "\n",
      "[[0 6 2]\n",
      " [6 0 4]\n",
      " [0 6 2]]\n",
      "\n",
      "[[6 2 8]\n",
      " [0 4 6]\n",
      " [6 2 4]]\n",
      "\n",
      "[[2 8 9]\n",
      " [4 6 3]\n",
      " [2 4 1]]\n",
      "\n",
      "[[8 9 2]\n",
      " [6 3 5]\n",
      " [4 1 0]]\n",
      "\n",
      "[[9 2 8]\n",
      " [3 5 0]\n",
      " [1 0 6]]\n",
      "\n",
      "[[1 3 7]\n",
      " [8 3 6]\n",
      " [1 3 9]]\n",
      "\n",
      "[[3 7 6]\n",
      " [3 6 0]\n",
      " [3 9 0]]\n",
      "\n",
      "[[7 6 0]\n",
      " [6 0 6]\n",
      " [9 0 1]]\n",
      "\n",
      "[[6 0 4]\n",
      " [0 6 2]\n",
      " [0 1 1]]\n",
      "\n",
      "[[0 4 6]\n",
      " [6 2 4]\n",
      " [1 1 3]]\n",
      "\n",
      "[[4 6 3]\n",
      " [2 4 1]\n",
      " [1 3 0]]\n",
      "\n",
      "[[6 3 5]\n",
      " [4 1 0]\n",
      " [3 0 1]]\n",
      "\n",
      "[[3 5 0]\n",
      " [1 0 6]\n",
      " [0 1 2]]\n",
      "\n",
      "[[8 3 6]\n",
      " [1 3 9]\n",
      " [8 4 8]]\n",
      "\n",
      "[[3 6 0]\n",
      " [3 9 0]\n",
      " [4 8 3]]\n",
      "\n",
      "[[6 0 6]\n",
      " [9 0 1]\n",
      " [8 3 4]]\n",
      "\n",
      "[[0 6 2]\n",
      " [0 1 1]\n",
      " [3 4 6]]\n",
      "\n",
      "[[6 2 4]\n",
      " [1 1 3]\n",
      " [4 6 1]]\n",
      "\n",
      "[[2 4 1]\n",
      " [1 3 0]\n",
      " [6 1 0]]\n",
      "\n",
      "[[4 1 0]\n",
      " [3 0 1]\n",
      " [1 0 5]]\n",
      "\n",
      "[[1 0 6]\n",
      " [0 1 2]\n",
      " [0 5 8]]\n",
      "\n",
      "[[1 3 9]\n",
      " [8 4 8]\n",
      " [1 7 4]]\n",
      "\n",
      "[[3 9 0]\n",
      " [4 8 3]\n",
      " [7 4 6]]\n",
      "\n",
      "[[9 0 1]\n",
      " [8 3 4]\n",
      " [4 6 9]]\n",
      "\n",
      "[[0 1 1]\n",
      " [3 4 6]\n",
      " [6 9 2]]\n",
      "\n",
      "[[1 1 3]\n",
      " [4 6 1]\n",
      " [9 2 6]]\n",
      "\n",
      "[[1 3 0]\n",
      " [6 1 0]\n",
      " [2 6 6]]\n",
      "\n",
      "[[3 0 1]\n",
      " [1 0 5]\n",
      " [6 6 5]]\n",
      "\n",
      "[[0 1 2]\n",
      " [0 5 8]\n",
      " [6 5 4]]\n",
      "\n",
      "[[8 4 8]\n",
      " [1 7 4]\n",
      " [4 9 4]]\n",
      "\n",
      "[[4 8 3]\n",
      " [7 4 6]\n",
      " [9 4 9]]\n",
      "\n",
      "[[8 3 4]\n",
      " [4 6 9]\n",
      " [4 9 1]]\n",
      "\n",
      "[[3 4 6]\n",
      " [6 9 2]\n",
      " [9 1 2]]\n",
      "\n",
      "[[4 6 1]\n",
      " [9 2 6]\n",
      " [1 2 6]]\n",
      "\n",
      "[[6 1 0]\n",
      " [2 6 6]\n",
      " [2 6 2]]\n",
      "\n",
      "[[1 0 5]\n",
      " [6 6 5]\n",
      " [6 2 6]]\n",
      "\n",
      "[[0 5 8]\n",
      " [6 5 4]\n",
      " [2 6 9]]\n",
      "\n",
      "[[1 7 4]\n",
      " [4 9 4]\n",
      " [9 4 0]]\n",
      "\n",
      "[[7 4 6]\n",
      " [9 4 9]\n",
      " [4 0 3]]\n",
      "\n",
      "[[4 6 9]\n",
      " [4 9 1]\n",
      " [0 3 8]]\n",
      "\n",
      "[[6 9 2]\n",
      " [9 1 2]\n",
      " [3 8 5]]\n",
      "\n",
      "[[9 2 6]\n",
      " [1 2 6]\n",
      " [8 5 7]]\n",
      "\n",
      "[[2 6 6]\n",
      " [2 6 2]\n",
      " [5 7 0]]\n",
      "\n",
      "[[6 6 5]\n",
      " [6 2 6]\n",
      " [7 0 2]]\n",
      "\n",
      "[[6 5 4]\n",
      " [2 6 9]\n",
      " [0 2 4]]\n",
      "\n",
      "[[4 9 4]\n",
      " [9 4 0]\n",
      " [8 3 7]]\n",
      "\n",
      "[[9 4 9]\n",
      " [4 0 3]\n",
      " [3 7 4]]\n",
      "\n",
      "[[4 9 1]\n",
      " [0 3 8]\n",
      " [7 4 3]]\n",
      "\n",
      "[[9 1 2]\n",
      " [3 8 5]\n",
      " [4 3 6]]\n",
      "\n",
      "[[1 2 6]\n",
      " [8 5 7]\n",
      " [3 6 5]]\n",
      "\n",
      "[[2 6 2]\n",
      " [5 7 0]\n",
      " [6 5 4]]\n",
      "\n",
      "[[6 2 6]\n",
      " [7 0 2]\n",
      " [5 4 0]]\n",
      "\n",
      "[[2 6 9]\n",
      " [0 2 4]\n",
      " [4 0 8]]\n",
      "\n",
      "[[9 4 0]\n",
      " [8 3 7]\n",
      " [1 6 7]]\n",
      "\n",
      "[[4 0 3]\n",
      " [3 7 4]\n",
      " [6 7 7]]\n",
      "\n",
      "[[0 3 8]\n",
      " [7 4 3]\n",
      " [7 7 3]]\n",
      "\n",
      "[[3 8 5]\n",
      " [4 3 6]\n",
      " [7 3 8]]\n",
      "\n",
      "[[8 5 7]\n",
      " [3 6 5]\n",
      " [3 8 6]]\n",
      "\n",
      "[[5 7 0]\n",
      " [6 5 4]\n",
      " [8 6 0]]\n",
      "\n",
      "[[7 0 2]\n",
      " [5 4 0]\n",
      " [6 0 9]]\n",
      "\n",
      "[[0 2 4]\n",
      " [4 0 8]\n",
      " [0 9 1]]\n",
      "\n"
     ]
    }
   ],
   "source": [
    "import numpy as np\n",
    "\n",
    "# Create a random 10x10 matrix\n",
    "matrix = np.random.randint(0, 10, size=(10, 10))\n",
    "\n",
    "# Initialize a list to store the extracted 3x3 blocks\n",
    "blocks = []\n",
    "\n",
    "# Iterate over the rows\n",
    "for i in range(matrix.shape[0] - 2):\n",
    "    # Iterate over the columns\n",
    "    for j in range(matrix.shape[1] - 2):\n",
    "        # Extract the 3x3 block\n",
    "        block = matrix[i:i+3, j:j+3]\n",
    "        # Append the block to the list\n",
    "        blocks.append(block)\n",
    "\n",
    "# Convert the list of blocks into a NumPy array\n",
    "blocks_array = np.array(blocks)\n",
    "\n",
    "print(\"Random 10x10 matrix:\")\n",
    "print(matrix)\n",
    "print(\"\\nExtracted 3x3 blocks:\")\n",
    "for block in blocks_array:\n",
    "    print(block)\n",
    "    print()\n"
   ]
  },
  {
   "cell_type": "markdown",
   "metadata": {},
   "source": [
    "#### 87. Consider a 16x16 array, how to get the block-sum (block size is 4x4)?"
   ]
  },
  {
   "cell_type": "code",
   "execution_count": 71,
   "metadata": {},
   "outputs": [
    {
     "name": "stdout",
     "output_type": "stream",
     "text": [
      "Block sum (shape: (4, 4)):\n",
      "[[69 74 73 60]\n",
      " [46 65 82 52]\n",
      " [69 67 67 58]\n",
      " [76 63 79 70]]\n"
     ]
    }
   ],
   "source": [
    "import numpy as np\n",
    "\n",
    "# Create a random 16x16 array\n",
    "array = np.random.randint(0, 10, (16, 16))\n",
    "\n",
    "# Reshape the array into a 4D array of shape (4, 4, 4, 4)\n",
    "reshaped_array = array.reshape(4, 4, 4, 4)\n",
    "\n",
    "# Sum along the last two axes to get the block-sum\n",
    "block_sum = reshaped_array.sum(axis=(2, 3))\n",
    "\n",
    "print(\"Block sum (shape: {}):\".format(block_sum.shape))\n",
    "print(block_sum)\n"
   ]
  },
  {
   "cell_type": "markdown",
   "metadata": {},
   "source": [
    "#### 88. How to implement the Game of Life using numpy arrays? "
   ]
  },
  {
   "cell_type": "code",
   "execution_count": 72,
   "metadata": {},
   "outputs": [
    {
     "name": "stderr",
     "output_type": "stream",
     "text": [
      "C:\\Users\\halim\\AppData\\Local\\Temp\\ipykernel_1824\\1557806111.py:37: UserWarning: You passed in an explicit save_count=50 which is being ignored in favor of frames=10.\n",
      "  ani = animation.FuncAnimation(fig, update, fargs=(img, grid, N),\n"
     ]
    },
    {
     "data": {
      "image/png": "[encoded data removed]",
      "text/plain": [
       "<Figure size 640x480 with 1 Axes>"
      ]
     },
     "metadata": {},
     "output_type": "display_data"
    }
   ],
   "source": [
    "import numpy as np\n",
    "import matplotlib.pyplot as plt\n",
    "import matplotlib.animation as animation\n",
    "\n",
    "def update(frameNum, img, grid, N):\n",
    "    newGrid = grid.copy()\n",
    "    for i in range(N):\n",
    "        for j in range(N):\n",
    "            # Compute the sum of neighbors' states\n",
    "            total = int((grid[i, (j-1)%N] + grid[i, (j+1)%N] +\n",
    "                         grid[(i-1)%N, j] + grid[(i+1)%N, j] +\n",
    "                         grid[(i-1)%N, (j-1)%N] + grid[(i-1)%N, (j+1)%N] +\n",
    "                         grid[(i+1)%N, (j-1)%N] + grid[(i+1)%N, (j+1)%N]))\n",
    "            \n",
    "            # Apply the rules of the game\n",
    "            if grid[i, j] == 1:\n",
    "                if (total < 2) or (total > 3):\n",
    "                    newGrid[i, j] = 0\n",
    "            else:\n",
    "                if total == 3:\n",
    "                    newGrid[i, j] = 1\n",
    "    img.set_data(newGrid)\n",
    "    grid[:] = newGrid[:]\n",
    "    return img,\n",
    "\n",
    "# Set grid size\n",
    "N = 100\n",
    "# Set animation duration\n",
    "updateInterval = 50\n",
    "\n",
    "# Initialize grid\n",
    "grid = np.random.choice([0, 1], N*N, p=[0.2, 0.8]).reshape(N, N)\n",
    "\n",
    "# Set up the animation\n",
    "fig, ax = plt.subplots()\n",
    "img = ax.imshow(grid, interpolation='nearest')\n",
    "ani = animation.FuncAnimation(fig, update, fargs=(img, grid, N),\n",
    "                              frames=10,\n",
    "                              interval=updateInterval,\n",
    "                              save_count=50)\n",
    "\n",
    "plt.show()\n"
   ]
  },
  {
   "cell_type": "markdown",
   "metadata": {},
   "source": [
    "#### 89. How to get the n largest values of an array"
   ]
  },
  {
   "cell_type": "code",
   "execution_count": 73,
   "metadata": {},
   "outputs": [
    {
     "name": "stdout",
     "output_type": "stream",
     "text": [
      "Indices of the 3 largest values:\n",
      "[8 7 5]\n"
     ]
    }
   ],
   "source": [
    "import numpy as np\n",
    "\n",
    "def n_largest_values(arr, n):\n",
    "    # Find the indices of the n largest elements using partition\n",
    "    indices = np.argpartition(arr, -n)[-n:]\n",
    "    \n",
    "    # Sort the indices based on the corresponding values\n",
    "    sorted_indices = indices[np.argsort(arr[indices])]\n",
    "    \n",
    "    # Return the indices of the n largest values\n",
    "    return sorted_indices\n",
    "\n",
    "# Example usage\n",
    "arr = np.array([3, 1, 4, 1, 5, 9, 2, 6, 5])\n",
    "n = 3\n",
    "\n",
    "largest_indices = n_largest_values(arr, n)\n",
    "print(\"Indices of the {} largest values:\".format(n))\n",
    "print(largest_indices)\n"
   ]
  },
  {
   "cell_type": "markdown",
   "metadata": {},
   "source": [
    "#### 90. Given an arbitrary number of vectors, build the cartesian product (every combinations of every item)"
   ]
  },
  {
   "cell_type": "code",
   "execution_count": 74,
   "metadata": {},
   "outputs": [
    {
     "name": "stdout",
     "output_type": "stream",
     "text": [
      "Cartesian product:\n",
      "[(1, 'a', True), (1, 'a', False), (1, 'b', True), (1, 'b', False), (1, 'c', True), (1, 'c', False), (2, 'a', True), (2, 'a', False), (2, 'b', True), (2, 'b', False), (2, 'c', True), (2, 'c', False)]\n"
     ]
    }
   ],
   "source": [
    "from itertools import product\n",
    "\n",
    "def cartesian_product(*vectors):\n",
    "    # Generate the cartesian product of the input vectors\n",
    "    return list(product(*vectors))\n",
    "\n",
    "# Example usage\n",
    "v1 = [1, 2]\n",
    "v2 = ['a', 'b', 'c']\n",
    "v3 = [True, False]\n",
    "\n",
    "result = cartesian_product(v1, v2, v3)\n",
    "print(\"Cartesian product:\")\n",
    "print(result)\n"
   ]
  },
  {
   "cell_type": "markdown",
   "metadata": {},
   "source": [
    "#### 91. How to create a record array from a regular array?"
   ]
  },
  {
   "cell_type": "code",
   "execution_count": 75,
   "metadata": {},
   "outputs": [
    {
     "name": "stdout",
     "output_type": "stream",
     "text": [
      "Regular array:\n",
      "[(1, 'John', 25) (2, 'Alice', 30) (3, 'Bob', 35)]\n",
      "\n",
      "Record array:\n",
      "[(1, 'John', 25) (2, 'Alice', 30) (3, 'Bob', 35)]\n"
     ]
    }
   ],
   "source": [
    "import numpy as np\n",
    "\n",
    "# Regular array\n",
    "regular_array = np.array([(1, 'John', 25), (2, 'Alice', 30), (3, 'Bob', 35)],\n",
    "                         dtype=[('ID', int), ('Name', 'U10'), ('Age', int)])\n",
    "\n",
    "# Create a record array from the regular array\n",
    "record_array = np.rec.array(regular_array)\n",
    "\n",
    "print(\"Regular array:\")\n",
    "print(regular_array)\n",
    "\n",
    "print(\"\\nRecord array:\")\n",
    "print(record_array)\n"
   ]
  },
  {
   "cell_type": "markdown",
   "metadata": {},
   "source": [
    "#### 92. Consider a large vector Z, compute Z to the power of 3 using 3 different methods "
   ]
  },
  {
   "cell_type": "code",
   "execution_count": 76,
   "metadata": {},
   "outputs": [
    {
     "name": "stdout",
     "output_type": "stream",
     "text": [
      "True\n",
      "True\n"
     ]
    }
   ],
   "source": [
    "import numpy as np\n",
    "\n",
    "# Generate a large vector Z\n",
    "Z = np.random.rand(1000000)\n",
    "\n",
    "# Method 1: Using broadcasting\n",
    "Z_cubed_broadcasting = Z ** 3\n",
    "\n",
    "# Method 2: Using np.power function\n",
    "Z_cubed_np_power = np.power(Z, 3)\n",
    "\n",
    "# Method 3: Using a loop\n",
    "Z_cubed_loop = np.empty_like(Z)\n",
    "for i in range(len(Z)):\n",
    "    Z_cubed_loop[i] = Z[i] ** 3\n",
    "\n",
    "# Check if results are the same\n",
    "print(np.allclose(Z_cubed_broadcasting, Z_cubed_np_power))\n",
    "print(np.allclose(Z_cubed_broadcasting, Z_cubed_loop))\n"
   ]
  },
  {
   "cell_type": "markdown",
   "metadata": {},
   "source": [
    "#### 93. Consider two arrays A and B of shape (8,3) and (2,2). How to find rows of A that contain elements of each row of B regardless of the order of the elements in B?"
   ]
  },
  {
   "cell_type": "code",
   "execution_count": 77,
   "metadata": {},
   "outputs": [
    {
     "name": "stdout",
     "output_type": "stream",
     "text": [
      "Rows of A containing elements of each row of B regardless of order:\n",
      "Row indices of A containing elements of row 0: []\n",
      "Row indices of A containing elements of row 1: []\n"
     ]
    }
   ],
   "source": [
    "import numpy as np\n",
    "\n",
    "# Example arrays\n",
    "A = np.array([[1, 2, 3],\n",
    "              [4, 5, 6],\n",
    "              [7, 8, 9],\n",
    "              [2, 3, 1],\n",
    "              [5, 4, 6],\n",
    "              [8, 9, 7],\n",
    "              [3, 1, 2],\n",
    "              [6, 5, 4]])\n",
    "\n",
    "B = np.array([[2, 3],\n",
    "              [4, 5]])\n",
    "\n",
    "# Function to find rows of A containing elements of each row of B\n",
    "def find_rows_containing_elements(A, B):\n",
    "    result = []\n",
    "    for row_b in B:\n",
    "        contains_elements = np.all(np.isin(A, row_b).reshape(A.shape[0], -1), axis=1)\n",
    "        result.append(np.where(contains_elements)[0])\n",
    "    return result\n",
    "\n",
    "# Find rows of A containing elements of each row of B\n",
    "rows_containing_elements = find_rows_containing_elements(A, B)\n",
    "\n",
    "# Print the result\n",
    "print(\"Rows of A containing elements of each row of B regardless of order:\")\n",
    "for i, row_indices in enumerate(rows_containing_elements):\n",
    "    print(\"Row indices of A containing elements of row {}: {}\".format(i, row_indices))\n"
   ]
  },
  {
   "cell_type": "markdown",
   "metadata": {},
   "source": [
    "#### 94. Considering a 10x3 matrix, extract rows with unequal values (e.g. [2,2,3])"
   ]
  },
  {
   "cell_type": "code",
   "execution_count": 78,
   "metadata": {},
   "outputs": [
    {
     "name": "stdout",
     "output_type": "stream",
     "text": [
      "Matrix:\n",
      "[[2 2 1]\n",
      " [0 0 1]\n",
      " [2 0 0]\n",
      " [1 1 0]\n",
      " [0 0 1]\n",
      " [0 1 1]\n",
      " [0 1 2]\n",
      " [2 1 0]\n",
      " [2 1 2]\n",
      " [2 0 0]]\n",
      "\n",
      "Rows with unequal values:\n",
      "[[2 2 1]\n",
      " [0 0 1]\n",
      " [2 0 0]\n",
      " [1 1 0]\n",
      " [0 0 1]\n",
      " [0 1 1]\n",
      " [0 1 2]\n",
      " [2 1 0]\n",
      " [2 1 2]\n",
      " [2 0 0]]\n"
     ]
    }
   ],
   "source": [
    "import numpy as np\n",
    "\n",
    "# Create a 10x3 matrix (example)\n",
    "matrix = np.random.randint(0, 3, (10, 3))  # Generating random integers for example\n",
    "\n",
    "# Function to extract rows with unequal values\n",
    "def extract_rows_with_unequal_values(matrix):\n",
    "    unequal_rows = []\n",
    "    for row in matrix:\n",
    "        if len(np.unique(row)) > 1:\n",
    "            unequal_rows.append(row)\n",
    "    return np.array(unequal_rows)\n",
    "\n",
    "# Extract rows with unequal values\n",
    "unequal_rows = extract_rows_with_unequal_values(matrix)\n",
    "\n",
    "# Print the result\n",
    "print(\"Matrix:\")\n",
    "print(matrix)\n",
    "print(\"\\nRows with unequal values:\")\n",
    "print(unequal_rows)\n"
   ]
  },
  {
   "cell_type": "markdown",
   "metadata": {},
   "source": [
    "#### 95. Convert a vector of ints into a matrix binary representation"
   ]
  },
  {
   "cell_type": "code",
   "execution_count": 80,
   "metadata": {},
   "outputs": [
    {
     "name": "stdout",
     "output_type": "stream",
     "text": [
      "Vector:\n",
      "[ 5  2  7 10]\n",
      "\n",
      "Binary matrix:\n",
      "[[0 1 0 1]\n",
      " [0 0 1 0]\n",
      " [0 1 1 1]\n",
      " [1 0 1 0]]\n"
     ]
    }
   ],
   "source": [
    "import numpy as np\n",
    "\n",
    "# Example vector of integers\n",
    "vector = np.array([5, 2, 7, 10], dtype=np.uint8)  # Example integers\n",
    "\n",
    "# Determine the number of bits required to represent the maximum value in the vector\n",
    "num_bits = int(np.ceil(np.log2(np.max(vector) + 1)))\n",
    "\n",
    "# Convert each integer into its binary representation\n",
    "binary_matrix = np.unpackbits(vector[:, np.newaxis], axis=1)\n",
    "\n",
    "# Keep only the necessary bits (rightmost bits)\n",
    "binary_matrix = binary_matrix[:, -num_bits:]\n",
    "\n",
    "print(\"Vector:\")\n",
    "print(vector)\n",
    "print(\"\\nBinary matrix:\")\n",
    "print(binary_matrix)\n"
   ]
  },
  {
   "cell_type": "markdown",
   "metadata": {},
   "source": [
    "#### 96. Given a two dimensional array, how to extract unique rows?"
   ]
  },
  {
   "cell_type": "code",
   "execution_count": 81,
   "metadata": {},
   "outputs": [
    {
     "name": "stdout",
     "output_type": "stream",
     "text": [
      "Original array:\n",
      "[[1 2 3]\n",
      " [4 5 6]\n",
      " [1 2 3]\n",
      " [7 8 9]\n",
      " [4 5 6]]\n",
      "\n",
      "Unique rows:\n",
      "[[1 2 3]\n",
      " [4 5 6]\n",
      " [7 8 9]]\n"
     ]
    }
   ],
   "source": [
    "import numpy as np\n",
    "\n",
    "# Example two-dimensional array\n",
    "array = np.array([[1, 2, 3],\n",
    "                  [4, 5, 6],\n",
    "                  [1, 2, 3],\n",
    "                  [7, 8, 9],\n",
    "                  [4, 5, 6]])\n",
    "\n",
    "# Extract unique rows\n",
    "unique_rows = np.unique(array, axis=0)\n",
    "\n",
    "print(\"Original array:\")\n",
    "print(array)\n",
    "print(\"\\nUnique rows:\")\n",
    "print(unique_rows)\n"
   ]
  },
  {
   "cell_type": "markdown",
   "metadata": {},
   "source": [
    "#### 97. Considering 2 vectors A & B, write the einsum equivalent of inner, outer, sum, and mul function"
   ]
  },
  {
   "cell_type": "markdown",
   "metadata": {},
   "source": [
    "#### 98. Considering a path described by two vectors (X,Y), how to sample it using equidistant samples"
   ]
  },
  {
   "cell_type": "code",
   "execution_count": 84,
   "metadata": {},
   "outputs": [
    {
     "name": "stdout",
     "output_type": "stream",
     "text": [
      "Equidistant samples:\n",
      "[(-1.9371294336139666, -1.7434164902525708), (-0.6107817187679707, -0.5497035468911733), (0.2920324172081907, 0.5840648344163814), (0.8333333333333335, 1.666666666666667), (1.4995123326113018, 2.499512332611302), (2.2212468874448255, 3.2212468874448255), (2.9429814422783487, 3.9429814422783487), (3.945907446610541, 4.945907446610541), (4.97295372330527, 5.97295372330527), (6.0, 7.0)]\n"
     ]
    }
   ],
   "source": [
    "import numpy as np\n",
    "\n",
    "def sample_equidistant_path(X, Y, num_samples):\n",
    "    # Compute the total length of the path\n",
    "    path_length = np.sum(np.sqrt(np.diff(X)**2 + np.diff(Y)**2))\n",
    "\n",
    "    # Compute the step size required to achieve equidistant sampling\n",
    "    step_size = path_length / (num_samples - 1)\n",
    "\n",
    "    # Compute cumulative distances along the path\n",
    "    cumulative_distances = np.cumsum(np.sqrt(np.diff(X)**2 + np.diff(Y)**2))\n",
    "\n",
    "    # Interpolate the path at equidistant intervals\n",
    "    equidistant_samples = []\n",
    "    for distance in np.linspace(0, path_length, num_samples):\n",
    "        # Find the indices where the cumulative distance exceeds the target distance\n",
    "        index = np.argmax(cumulative_distances >= distance)\n",
    "        \n",
    "        # Interpolate the X and Y coordinates at the corresponding index\n",
    "        if index < len(X) - 1:\n",
    "            t = (distance - cumulative_distances[index - 1]) / (cumulative_distances[index] - cumulative_distances[index - 1])\n",
    "            x = X[index - 1] + t * (X[index] - X[index - 1])\n",
    "            y = Y[index - 1] + t * (Y[index] - Y[index - 1])\n",
    "        else:\n",
    "            x = X[-1]\n",
    "            y = Y[-1]\n",
    "        \n",
    "        # Append the interpolated coordinates to the result\n",
    "        equidistant_samples.append((x, y))\n",
    "\n",
    "    return equidistant_samples\n",
    "\n",
    "# Example usage:\n",
    "X = np.array([0, 1, 3, 6, 10])\n",
    "Y = np.array([0, 2, 4, 7, 9])\n",
    "num_samples = 10\n",
    "samples = sample_equidistant_path(X, Y, num_samples)\n",
    "print(\"Equidistant samples:\")\n",
    "print(samples)\n"
   ]
  },
  {
   "cell_type": "markdown",
   "metadata": {},
   "source": [
    "#### 99. Given an integer n and a 2D array X, select from X the rows which can be interpreted as draws from a multinomial distribution with n degrees, i.e., the rows which only contain integers and which sum to n."
   ]
  },
  {
   "cell_type": "code",
   "execution_count": 85,
   "metadata": {},
   "outputs": [
    {
     "name": "stdout",
     "output_type": "stream",
     "text": [
      "Rows from X representing multinomial draws with sum equal to 6 :\n",
      "[array([1, 2, 3])]\n"
     ]
    }
   ],
   "source": [
    "import numpy as np\n",
    "\n",
    "def select_multinomial_rows(X, n):\n",
    "    # Check if each row contains only integers and sum to n\n",
    "    valid_rows = [row for row in X if np.all(np.equal(np.mod(row, 1), 0)) and np.sum(row) == n]\n",
    "    return valid_rows\n",
    "\n",
    "# Example usage:\n",
    "X = np.array([[1, 2, 3], [2, 2, 3], [3, 3, 3], [1, 1, 1], [4, 5, 6]])\n",
    "n = 6\n",
    "selected_rows = select_multinomial_rows(X, n)\n",
    "print(\"Rows from X representing multinomial draws with sum equal to\", n, \":\")\n",
    "print(selected_rows)\n"
   ]
  },
  {
   "cell_type": "markdown",
   "metadata": {},
   "source": [
    "#### 100. Compute bootstrapped 95% confidence intervals for the mean of a 1D array X (i.e., resample the elements of an array with replacement N times, compute the mean of each sample, and then compute percentiles over the means)."
   ]
  },
  {
   "cell_type": "code",
   "execution_count": 86,
   "metadata": {},
   "outputs": [
    {
     "name": "stdout",
     "output_type": "stream",
     "text": [
      "Bootstrapped 95.0% confidence interval for the mean of X: [3.8, 7.2]\n"
     ]
    }
   ],
   "source": [
    "import numpy as np\n",
    "\n",
    "def bootstrap_mean_confidence_interval(X, N, alpha=0.95):\n",
    "    means = []\n",
    "    n = len(X)\n",
    "    for _ in range(N):\n",
    "        # Resample with replacement\n",
    "        sample = np.random.choice(X, n, replace=True)\n",
    "        # Compute the mean of the resampled sample\n",
    "        mean = np.mean(sample)\n",
    "        means.append(mean)\n",
    "    # Compute confidence interval\n",
    "    lower_percentile = (1 - alpha) / 2 * 100\n",
    "    upper_percentile = (alpha + (1 - alpha) / 2) * 100\n",
    "    lower_bound = np.percentile(means, lower_percentile)\n",
    "    upper_bound = np.percentile(means, upper_percentile)\n",
    "    return lower_bound, upper_bound\n",
    "\n",
    "# Example usage:\n",
    "X = np.array([1, 2, 3, 4, 5, 6, 7, 8, 9, 10])\n",
    "N = 1000  \n",
    "alpha = 0.95  \n",
    "lower_bound, upper_bound = bootstrap_mean_confidence_interval(X, N, alpha)\n",
    "print(f\"Bootstrapped {alpha*100}% confidence interval for the mean of X: [{lower_bound}, {upper_bound}]\")\n"
   ]
  }
 ],
 "metadata": {
  "kernelspec": {
   "display_name": "Python 3",
   "language": "python",
   "name": "python3"
  },
  "language_info": {
   "codemirror_mode": {
    "name": "ipython",
    "version": 3
   },
   "file_extension": ".py",
   "mimetype": "text/x-python",
   "name": "python",
   "nbconvert_exporter": "python",
   "pygments_lexer": "ipython3",
   "version": "3.11.7"
  }
 },
 "nbformat": 4,
 "nbformat_minor": 2
}
